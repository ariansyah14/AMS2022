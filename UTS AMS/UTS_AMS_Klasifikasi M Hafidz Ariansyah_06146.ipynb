{
  "cells": [
    {
      "cell_type": "code",
      "execution_count": 1,
      "metadata": {
        "id": "6he9cdkD4YpY",
        "colab": {
          "base_uri": "https://localhost:8080/"
        },
        "outputId": "726742a8-c3b5-4a6f-ce1b-eb549b4046ad"
      },
      "outputs": [
        {
          "output_type": "stream",
          "name": "stdout",
          "text": [
            "Mounted at /content/drive\n"
          ]
        }
      ],
      "source": [
        "from google.colab import drive\n",
        "drive.mount('/content/drive')"
      ]
    },
    {
      "cell_type": "code",
      "execution_count": 2,
      "metadata": {
        "id": "7jpH6ctR5NuH"
      },
      "outputs": [],
      "source": [
        "import sys\n",
        "sys.path.append('/content/drive/My Drive/Colab Notebooks/AMS2022')"
      ]
    },
    {
      "cell_type": "code",
      "execution_count": 3,
      "metadata": {
        "colab": {
          "base_uri": "https://localhost:8080/"
        },
        "id": "-a51lCme5OX9",
        "outputId": "acf922ea-09c4-4e5c-93a6-b385dc8b7be6"
      },
      "outputs": [
        {
          "output_type": "stream",
          "name": "stdout",
          "text": [
            "Looking in indexes: https://pypi.org/simple, https://us-python.pkg.dev/colab-wheels/public/simple/\n",
            "Collecting ekphrasis\n",
            "  Downloading ekphrasis-0.5.4-py3-none-any.whl (83 kB)\n",
            "\u001b[K     |████████████████████████████████| 83 kB 1.5 MB/s \n",
            "\u001b[?25hRequirement already satisfied: tqdm in /usr/local/lib/python3.7/dist-packages (from ekphrasis) (4.64.1)\n",
            "Requirement already satisfied: ujson in /usr/local/lib/python3.7/dist-packages (from ekphrasis) (5.5.0)\n",
            "Requirement already satisfied: termcolor in /usr/local/lib/python3.7/dist-packages (from ekphrasis) (2.0.1)\n",
            "Requirement already satisfied: nltk in /usr/local/lib/python3.7/dist-packages (from ekphrasis) (3.7)\n",
            "Collecting ftfy\n",
            "  Downloading ftfy-6.1.1-py3-none-any.whl (53 kB)\n",
            "\u001b[K     |████████████████████████████████| 53 kB 1.3 MB/s \n",
            "\u001b[?25hRequirement already satisfied: matplotlib in /usr/local/lib/python3.7/dist-packages (from ekphrasis) (3.2.2)\n",
            "Collecting colorama\n",
            "  Downloading colorama-0.4.6-py2.py3-none-any.whl (25 kB)\n",
            "Requirement already satisfied: numpy in /usr/local/lib/python3.7/dist-packages (from ekphrasis) (1.21.6)\n",
            "Requirement already satisfied: wcwidth>=0.2.5 in /usr/local/lib/python3.7/dist-packages (from ftfy->ekphrasis) (0.2.5)\n",
            "Requirement already satisfied: kiwisolver>=1.0.1 in /usr/local/lib/python3.7/dist-packages (from matplotlib->ekphrasis) (1.4.4)\n",
            "Requirement already satisfied: python-dateutil>=2.1 in /usr/local/lib/python3.7/dist-packages (from matplotlib->ekphrasis) (2.8.2)\n",
            "Requirement already satisfied: cycler>=0.10 in /usr/local/lib/python3.7/dist-packages (from matplotlib->ekphrasis) (0.11.0)\n",
            "Requirement already satisfied: pyparsing!=2.0.4,!=2.1.2,!=2.1.6,>=2.0.1 in /usr/local/lib/python3.7/dist-packages (from matplotlib->ekphrasis) (3.0.9)\n",
            "Requirement already satisfied: typing-extensions in /usr/local/lib/python3.7/dist-packages (from kiwisolver>=1.0.1->matplotlib->ekphrasis) (4.1.1)\n",
            "Requirement already satisfied: six>=1.5 in /usr/local/lib/python3.7/dist-packages (from python-dateutil>=2.1->matplotlib->ekphrasis) (1.15.0)\n",
            "Requirement already satisfied: regex>=2021.8.3 in /usr/local/lib/python3.7/dist-packages (from nltk->ekphrasis) (2022.6.2)\n",
            "Requirement already satisfied: joblib in /usr/local/lib/python3.7/dist-packages (from nltk->ekphrasis) (1.2.0)\n",
            "Requirement already satisfied: click in /usr/local/lib/python3.7/dist-packages (from nltk->ekphrasis) (7.1.2)\n",
            "Installing collected packages: ftfy, colorama, ekphrasis\n",
            "Successfully installed colorama-0.4.6 ekphrasis-0.5.4 ftfy-6.1.1\n"
          ]
        }
      ],
      "source": [
        "!pip install ekphrasis"
      ]
    },
    {
      "cell_type": "code",
      "execution_count": 4,
      "metadata": {
        "colab": {
          "base_uri": "https://localhost:8080/"
        },
        "id": "_4R1Pt1m5Oqs",
        "outputId": "c520b4e0-f297-4111-e02b-ee36970a3109"
      },
      "outputs": [
        {
          "output_type": "stream",
          "name": "stderr",
          "text": [
            "/usr/local/lib/python3.7/dist-packages/ekphrasis/classes/tokenizer.py:225: FutureWarning: Possible nested set at position 2190\n",
            "  self.tok = re.compile(r\"({})\".format(\"|\".join(pipeline)))\n"
          ]
        },
        {
          "output_type": "stream",
          "name": "stdout",
          "text": [
            "Word statistics files not found!\n",
            "Downloading... done!\n",
            "Unpacking... done!\n",
            "Reading twitter - 1grams ...\n",
            "generating cache file for faster loading...\n",
            "reading ngrams /root/.ekphrasis/stats/twitter/counts_1grams.txt\n",
            "Reading twitter - 2grams ...\n",
            "generating cache file for faster loading...\n",
            "reading ngrams /root/.ekphrasis/stats/twitter/counts_2grams.txt\n",
            "Reading twitter - 1grams ...\n"
          ]
        },
        {
          "output_type": "stream",
          "name": "stderr",
          "text": [
            "/usr/local/lib/python3.7/dist-packages/ekphrasis/classes/exmanager.py:14: FutureWarning: Possible nested set at position 42\n",
            "  regexes = {k.lower(): re.compile(self.expressions[k]) for k, v in\n"
          ]
        }
      ],
      "source": [
        "from ekphrasis.classes.preprocessor import TextPreProcessor\n",
        "from ekphrasis.classes.tokenizer import SocialTokenizer\n",
        "from ekphrasis.dicts.emoticons import emoticons\n",
        "\n",
        "text_processor = TextPreProcessor(\n",
        "    # terms that will be normalized\n",
        "    normalize=['email', 'percent', 'money', 'phone', 'user',\n",
        "        'time', 'date', 'number'],\n",
        "    # terms that will be annotated\n",
        "    #annotate={\"hashtag\", \"allcaps\", \"elongated\", \"repeated\",'emphasis', 'censored'},\n",
        "    annotate={\"hashtag\",\"allcaps\",\"elongated\",\"repeated\",'emphasis','censored'},\n",
        "    fix_html=True,  # fix HTML tokens\n",
        "    \n",
        "    # corpus from which the word statistics are going to be used \n",
        "    # for word segmentation \n",
        "    segmenter=\"twitter\", \n",
        "    \n",
        "    # corpus from which the word statistics are going to be used \n",
        "    # for spell correction\n",
        "    corrector=\"twitter\", \n",
        "    \n",
        "    unpack_hashtags=True,  # perform word segmentation on hashtags\n",
        "    unpack_contractions=True,  # Unpack contractions (can't -> can not)\n",
        "    spell_correct_elong=False,  # spell correction for elongated words\n",
        "    \n",
        "    # select a tokenizer. You can use SocialTokenizer, or pass your own\n",
        "    # the tokenizer, should take as input a string and return a list of tokens\n",
        "    tokenizer=SocialTokenizer(lowercase=True).tokenize,\n",
        "    \n",
        "    # list of dictionaries, for replacing tokens extracted from the text,\n",
        "    # with other expressions. You can pass more than one dictionaries.\n",
        "    dicts=[emoticons]\n",
        ")"
      ]
    },
    {
      "cell_type": "code",
      "execution_count": 5,
      "metadata": {
        "id": "rjQSDJBv5TsZ"
      },
      "outputs": [],
      "source": [
        "import re\n",
        "import string \n",
        "import pandas as pd\n",
        "from copy import deepcopy\n",
        "\n",
        "import matplotlib.pyplot as plt\n",
        "import seaborn as sns\n",
        "%matplotlib inline\n",
        "\n",
        "from sklearn.model_selection import train_test_split\n",
        "from sklearn.metrics import accuracy_score\n",
        "from sklearn.metrics import recall_score\n",
        "from sklearn.metrics import precision_score"
      ]
    },
    {
      "cell_type": "code",
      "execution_count": 6,
      "metadata": {
        "id": "cAPJp8RJ5Toz"
      },
      "outputs": [],
      "source": [
        "df = pd.read_csv('/content/drive/My Drive/Colab Notebooks/AMS2022/Knalpot.csv', sep=',')  "
      ]
    },
    {
      "cell_type": "code",
      "execution_count": 7,
      "metadata": {
        "id": "ftOHq-OI5Tlf",
        "colab": {
          "base_uri": "https://localhost:8080/",
          "height": 285
        },
        "outputId": "799cf09d-6035-4979-a9fe-10086cea0a76"
      },
      "outputs": [
        {
          "output_type": "execute_result",
          "data": {
            "text/plain": [
              "                                              Tweets  \\\n",
              "0   @Almaylifi tercium bau asap knalpot motor racing   \n",
              "1  @hanajihyo iyaa, besok yang pake knalpot racin...   \n",
              "2  Motor bebek pake knalpot racing 75ribu, lewat ...   \n",
              "3  @SeputarTetangga Ngebutnya sih gak kenceng tap...   \n",
              "4                   @18fesss Knalpot racing original   \n",
              "\n",
              "                                       cleanedTweets  \\\n",
              "0              tercium bau asap knalpot motor racing   \n",
              "1       iyaa, besok yang pake knalpot racing itu aku   \n",
              "2  motor bebek pake knalpot racing 75ribu, lewat ...   \n",
              "3   ngebutnya sih gak kenceng tapi kalau suara kn...   \n",
              "4                            knalpot racing original   \n",
              "\n",
              "                                          Translated  Subjectivity  Polarity  \\\n",
              "0               smells of smoke exhaust motor racing          0.00  0.000000   \n",
              "1             Yes, tomorrow I use the racing exhaust          0.00  0.000000   \n",
              "2  Duck motorbike using a 75 thousand racing exha...          0.40 -0.250000   \n",
              "3  Speed up, it's not fast, but if the sound of a...          0.60  0.133333   \n",
              "4                            Original Racing Exhaust          0.75  0.375000   \n",
              "\n",
              "   Analysis  \n",
              "0         0  \n",
              "1         0  \n",
              "2        -1  \n",
              "3         1  \n",
              "4         1  "
            ],
            "text/html": [
              "\n",
              "  <div id=\"df-f8bcad5c-a791-4a16-80df-fb082afbc0b9\">\n",
              "    <div class=\"colab-df-container\">\n",
              "      <div>\n",
              "<style scoped>\n",
              "    .dataframe tbody tr th:only-of-type {\n",
              "        vertical-align: middle;\n",
              "    }\n",
              "\n",
              "    .dataframe tbody tr th {\n",
              "        vertical-align: top;\n",
              "    }\n",
              "\n",
              "    .dataframe thead th {\n",
              "        text-align: right;\n",
              "    }\n",
              "</style>\n",
              "<table border=\"1\" class=\"dataframe\">\n",
              "  <thead>\n",
              "    <tr style=\"text-align: right;\">\n",
              "      <th></th>\n",
              "      <th>Tweets</th>\n",
              "      <th>cleanedTweets</th>\n",
              "      <th>Translated</th>\n",
              "      <th>Subjectivity</th>\n",
              "      <th>Polarity</th>\n",
              "      <th>Analysis</th>\n",
              "    </tr>\n",
              "  </thead>\n",
              "  <tbody>\n",
              "    <tr>\n",
              "      <th>0</th>\n",
              "      <td>@Almaylifi tercium bau asap knalpot motor racing</td>\n",
              "      <td>tercium bau asap knalpot motor racing</td>\n",
              "      <td>smells of smoke exhaust motor racing</td>\n",
              "      <td>0.00</td>\n",
              "      <td>0.000000</td>\n",
              "      <td>0</td>\n",
              "    </tr>\n",
              "    <tr>\n",
              "      <th>1</th>\n",
              "      <td>@hanajihyo iyaa, besok yang pake knalpot racin...</td>\n",
              "      <td>iyaa, besok yang pake knalpot racing itu aku</td>\n",
              "      <td>Yes, tomorrow I use the racing exhaust</td>\n",
              "      <td>0.00</td>\n",
              "      <td>0.000000</td>\n",
              "      <td>0</td>\n",
              "    </tr>\n",
              "    <tr>\n",
              "      <th>2</th>\n",
              "      <td>Motor bebek pake knalpot racing 75ribu, lewat ...</td>\n",
              "      <td>motor bebek pake knalpot racing 75ribu, lewat ...</td>\n",
              "      <td>Duck motorbike using a 75 thousand racing exha...</td>\n",
              "      <td>0.40</td>\n",
              "      <td>-0.250000</td>\n",
              "      <td>-1</td>\n",
              "    </tr>\n",
              "    <tr>\n",
              "      <th>3</th>\n",
              "      <td>@SeputarTetangga Ngebutnya sih gak kenceng tap...</td>\n",
              "      <td>ngebutnya sih gak kenceng tapi kalau suara kn...</td>\n",
              "      <td>Speed up, it's not fast, but if the sound of a...</td>\n",
              "      <td>0.60</td>\n",
              "      <td>0.133333</td>\n",
              "      <td>1</td>\n",
              "    </tr>\n",
              "    <tr>\n",
              "      <th>4</th>\n",
              "      <td>@18fesss Knalpot racing original</td>\n",
              "      <td>knalpot racing original</td>\n",
              "      <td>Original Racing Exhaust</td>\n",
              "      <td>0.75</td>\n",
              "      <td>0.375000</td>\n",
              "      <td>1</td>\n",
              "    </tr>\n",
              "  </tbody>\n",
              "</table>\n",
              "</div>\n",
              "      <button class=\"colab-df-convert\" onclick=\"convertToInteractive('df-f8bcad5c-a791-4a16-80df-fb082afbc0b9')\"\n",
              "              title=\"Convert this dataframe to an interactive table.\"\n",
              "              style=\"display:none;\">\n",
              "        \n",
              "  <svg xmlns=\"http://www.w3.org/2000/svg\" height=\"24px\"viewBox=\"0 0 24 24\"\n",
              "       width=\"24px\">\n",
              "    <path d=\"M0 0h24v24H0V0z\" fill=\"none\"/>\n",
              "    <path d=\"M18.56 5.44l.94 2.06.94-2.06 2.06-.94-2.06-.94-.94-2.06-.94 2.06-2.06.94zm-11 1L8.5 8.5l.94-2.06 2.06-.94-2.06-.94L8.5 2.5l-.94 2.06-2.06.94zm10 10l.94 2.06.94-2.06 2.06-.94-2.06-.94-.94-2.06-.94 2.06-2.06.94z\"/><path d=\"M17.41 7.96l-1.37-1.37c-.4-.4-.92-.59-1.43-.59-.52 0-1.04.2-1.43.59L10.3 9.45l-7.72 7.72c-.78.78-.78 2.05 0 2.83L4 21.41c.39.39.9.59 1.41.59.51 0 1.02-.2 1.41-.59l7.78-7.78 2.81-2.81c.8-.78.8-2.07 0-2.86zM5.41 20L4 18.59l7.72-7.72 1.47 1.35L5.41 20z\"/>\n",
              "  </svg>\n",
              "      </button>\n",
              "      \n",
              "  <style>\n",
              "    .colab-df-container {\n",
              "      display:flex;\n",
              "      flex-wrap:wrap;\n",
              "      gap: 12px;\n",
              "    }\n",
              "\n",
              "    .colab-df-convert {\n",
              "      background-color: #E8F0FE;\n",
              "      border: none;\n",
              "      border-radius: 50%;\n",
              "      cursor: pointer;\n",
              "      display: none;\n",
              "      fill: #1967D2;\n",
              "      height: 32px;\n",
              "      padding: 0 0 0 0;\n",
              "      width: 32px;\n",
              "    }\n",
              "\n",
              "    .colab-df-convert:hover {\n",
              "      background-color: #E2EBFA;\n",
              "      box-shadow: 0px 1px 2px rgba(60, 64, 67, 0.3), 0px 1px 3px 1px rgba(60, 64, 67, 0.15);\n",
              "      fill: #174EA6;\n",
              "    }\n",
              "\n",
              "    [theme=dark] .colab-df-convert {\n",
              "      background-color: #3B4455;\n",
              "      fill: #D2E3FC;\n",
              "    }\n",
              "\n",
              "    [theme=dark] .colab-df-convert:hover {\n",
              "      background-color: #434B5C;\n",
              "      box-shadow: 0px 1px 3px 1px rgba(0, 0, 0, 0.15);\n",
              "      filter: drop-shadow(0px 1px 2px rgba(0, 0, 0, 0.3));\n",
              "      fill: #FFFFFF;\n",
              "    }\n",
              "  </style>\n",
              "\n",
              "      <script>\n",
              "        const buttonEl =\n",
              "          document.querySelector('#df-f8bcad5c-a791-4a16-80df-fb082afbc0b9 button.colab-df-convert');\n",
              "        buttonEl.style.display =\n",
              "          google.colab.kernel.accessAllowed ? 'block' : 'none';\n",
              "\n",
              "        async function convertToInteractive(key) {\n",
              "          const element = document.querySelector('#df-f8bcad5c-a791-4a16-80df-fb082afbc0b9');\n",
              "          const dataTable =\n",
              "            await google.colab.kernel.invokeFunction('convertToInteractive',\n",
              "                                                     [key], {});\n",
              "          if (!dataTable) return;\n",
              "\n",
              "          const docLinkHtml = 'Like what you see? Visit the ' +\n",
              "            '<a target=\"_blank\" href=https://colab.research.google.com/notebooks/data_table.ipynb>data table notebook</a>'\n",
              "            + ' to learn more about interactive tables.';\n",
              "          element.innerHTML = '';\n",
              "          dataTable['output_type'] = 'display_data';\n",
              "          await google.colab.output.renderOutput(dataTable, element);\n",
              "          const docLink = document.createElement('div');\n",
              "          docLink.innerHTML = docLinkHtml;\n",
              "          element.appendChild(docLink);\n",
              "        }\n",
              "      </script>\n",
              "    </div>\n",
              "  </div>\n",
              "  "
            ]
          },
          "metadata": {},
          "execution_count": 7
        }
      ],
      "source": [
        "df.head()"
      ]
    },
    {
      "cell_type": "code",
      "execution_count": 8,
      "metadata": {
        "id": "aNWV8dgU5Tii"
      },
      "outputs": [],
      "source": [
        "del df['cleanedTweets']\n",
        "del df['Translated']\n",
        "del df['Subjectivity']\n",
        "del df['Polarity']"
      ]
    },
    {
      "cell_type": "code",
      "execution_count": 9,
      "metadata": {
        "id": "F8yWdPdI5Tfu",
        "colab": {
          "base_uri": "https://localhost:8080/",
          "height": 206
        },
        "outputId": "507c8419-13cd-4da3-c9af-0f92c7793b60"
      },
      "outputs": [
        {
          "output_type": "execute_result",
          "data": {
            "text/plain": [
              "                                              Tweets  Analysis\n",
              "0   @Almaylifi tercium bau asap knalpot motor racing         0\n",
              "1  @hanajihyo iyaa, besok yang pake knalpot racin...         0\n",
              "2  Motor bebek pake knalpot racing 75ribu, lewat ...        -1\n",
              "3  @SeputarTetangga Ngebutnya sih gak kenceng tap...         1\n",
              "4                   @18fesss Knalpot racing original         1"
            ],
            "text/html": [
              "\n",
              "  <div id=\"df-1c3b264a-647e-40aa-a6cc-21a840133daa\">\n",
              "    <div class=\"colab-df-container\">\n",
              "      <div>\n",
              "<style scoped>\n",
              "    .dataframe tbody tr th:only-of-type {\n",
              "        vertical-align: middle;\n",
              "    }\n",
              "\n",
              "    .dataframe tbody tr th {\n",
              "        vertical-align: top;\n",
              "    }\n",
              "\n",
              "    .dataframe thead th {\n",
              "        text-align: right;\n",
              "    }\n",
              "</style>\n",
              "<table border=\"1\" class=\"dataframe\">\n",
              "  <thead>\n",
              "    <tr style=\"text-align: right;\">\n",
              "      <th></th>\n",
              "      <th>Tweets</th>\n",
              "      <th>Analysis</th>\n",
              "    </tr>\n",
              "  </thead>\n",
              "  <tbody>\n",
              "    <tr>\n",
              "      <th>0</th>\n",
              "      <td>@Almaylifi tercium bau asap knalpot motor racing</td>\n",
              "      <td>0</td>\n",
              "    </tr>\n",
              "    <tr>\n",
              "      <th>1</th>\n",
              "      <td>@hanajihyo iyaa, besok yang pake knalpot racin...</td>\n",
              "      <td>0</td>\n",
              "    </tr>\n",
              "    <tr>\n",
              "      <th>2</th>\n",
              "      <td>Motor bebek pake knalpot racing 75ribu, lewat ...</td>\n",
              "      <td>-1</td>\n",
              "    </tr>\n",
              "    <tr>\n",
              "      <th>3</th>\n",
              "      <td>@SeputarTetangga Ngebutnya sih gak kenceng tap...</td>\n",
              "      <td>1</td>\n",
              "    </tr>\n",
              "    <tr>\n",
              "      <th>4</th>\n",
              "      <td>@18fesss Knalpot racing original</td>\n",
              "      <td>1</td>\n",
              "    </tr>\n",
              "  </tbody>\n",
              "</table>\n",
              "</div>\n",
              "      <button class=\"colab-df-convert\" onclick=\"convertToInteractive('df-1c3b264a-647e-40aa-a6cc-21a840133daa')\"\n",
              "              title=\"Convert this dataframe to an interactive table.\"\n",
              "              style=\"display:none;\">\n",
              "        \n",
              "  <svg xmlns=\"http://www.w3.org/2000/svg\" height=\"24px\"viewBox=\"0 0 24 24\"\n",
              "       width=\"24px\">\n",
              "    <path d=\"M0 0h24v24H0V0z\" fill=\"none\"/>\n",
              "    <path d=\"M18.56 5.44l.94 2.06.94-2.06 2.06-.94-2.06-.94-.94-2.06-.94 2.06-2.06.94zm-11 1L8.5 8.5l.94-2.06 2.06-.94-2.06-.94L8.5 2.5l-.94 2.06-2.06.94zm10 10l.94 2.06.94-2.06 2.06-.94-2.06-.94-.94-2.06-.94 2.06-2.06.94z\"/><path d=\"M17.41 7.96l-1.37-1.37c-.4-.4-.92-.59-1.43-.59-.52 0-1.04.2-1.43.59L10.3 9.45l-7.72 7.72c-.78.78-.78 2.05 0 2.83L4 21.41c.39.39.9.59 1.41.59.51 0 1.02-.2 1.41-.59l7.78-7.78 2.81-2.81c.8-.78.8-2.07 0-2.86zM5.41 20L4 18.59l7.72-7.72 1.47 1.35L5.41 20z\"/>\n",
              "  </svg>\n",
              "      </button>\n",
              "      \n",
              "  <style>\n",
              "    .colab-df-container {\n",
              "      display:flex;\n",
              "      flex-wrap:wrap;\n",
              "      gap: 12px;\n",
              "    }\n",
              "\n",
              "    .colab-df-convert {\n",
              "      background-color: #E8F0FE;\n",
              "      border: none;\n",
              "      border-radius: 50%;\n",
              "      cursor: pointer;\n",
              "      display: none;\n",
              "      fill: #1967D2;\n",
              "      height: 32px;\n",
              "      padding: 0 0 0 0;\n",
              "      width: 32px;\n",
              "    }\n",
              "\n",
              "    .colab-df-convert:hover {\n",
              "      background-color: #E2EBFA;\n",
              "      box-shadow: 0px 1px 2px rgba(60, 64, 67, 0.3), 0px 1px 3px 1px rgba(60, 64, 67, 0.15);\n",
              "      fill: #174EA6;\n",
              "    }\n",
              "\n",
              "    [theme=dark] .colab-df-convert {\n",
              "      background-color: #3B4455;\n",
              "      fill: #D2E3FC;\n",
              "    }\n",
              "\n",
              "    [theme=dark] .colab-df-convert:hover {\n",
              "      background-color: #434B5C;\n",
              "      box-shadow: 0px 1px 3px 1px rgba(0, 0, 0, 0.15);\n",
              "      filter: drop-shadow(0px 1px 2px rgba(0, 0, 0, 0.3));\n",
              "      fill: #FFFFFF;\n",
              "    }\n",
              "  </style>\n",
              "\n",
              "      <script>\n",
              "        const buttonEl =\n",
              "          document.querySelector('#df-1c3b264a-647e-40aa-a6cc-21a840133daa button.colab-df-convert');\n",
              "        buttonEl.style.display =\n",
              "          google.colab.kernel.accessAllowed ? 'block' : 'none';\n",
              "\n",
              "        async function convertToInteractive(key) {\n",
              "          const element = document.querySelector('#df-1c3b264a-647e-40aa-a6cc-21a840133daa');\n",
              "          const dataTable =\n",
              "            await google.colab.kernel.invokeFunction('convertToInteractive',\n",
              "                                                     [key], {});\n",
              "          if (!dataTable) return;\n",
              "\n",
              "          const docLinkHtml = 'Like what you see? Visit the ' +\n",
              "            '<a target=\"_blank\" href=https://colab.research.google.com/notebooks/data_table.ipynb>data table notebook</a>'\n",
              "            + ' to learn more about interactive tables.';\n",
              "          element.innerHTML = '';\n",
              "          dataTable['output_type'] = 'display_data';\n",
              "          await google.colab.output.renderOutput(dataTable, element);\n",
              "          const docLink = document.createElement('div');\n",
              "          docLink.innerHTML = docLinkHtml;\n",
              "          element.appendChild(docLink);\n",
              "        }\n",
              "      </script>\n",
              "    </div>\n",
              "  </div>\n",
              "  "
            ]
          },
          "metadata": {},
          "execution_count": 9
        }
      ],
      "source": [
        "df.head()"
      ]
    },
    {
      "cell_type": "code",
      "execution_count": 10,
      "metadata": {
        "id": "ika12ioQ5Tc1"
      },
      "outputs": [],
      "source": [
        "def bersih_data(text):\n",
        "    return \" \".join(text_processor.pre_process_doc(text))\n",
        "\n",
        "def non_ascii(text):\n",
        "    return text.encode('ascii', 'replace').decode('ascii')\n",
        "\n",
        "def remove_space_alzami(text):\n",
        "    return \" \".join(text.split())\n",
        "\n",
        "def remove_emoji_alzami(text):\n",
        "    return ' '.join(re.sub(\"([x#][A-Za-z0-9]+)\",\" \", text).split())\n",
        "\n",
        "def remove_tab(text):\n",
        "    return text.replace('\\\\t',\" \").replace('\\\\n',\" \").replace('\\\\u',\" \").replace('\\\\',\"\")\n",
        "\n",
        "def remove_tab2(text):\n",
        "    return re.sub('\\s+',' ',text)\n",
        "\n",
        "def remove_rt(text):\n",
        "    return text.replace('RT',\" \")\n",
        "\n",
        "def remove_mention(text):\n",
        "    return ' '.join(re.sub(\"([@#][A-Za-z0-9]+)|(\\w+:\\/\\/\\S+)\",\" \", text).split())\n",
        "\n",
        "def remove_incomplete_url(text):\n",
        "    return text.replace(\"http://\", \" \").replace(\"https://\", \" \")\n",
        "\n",
        "def remove_single_char(text):\n",
        "    return re.sub(r\"\\b[a-zA-Z]\\b\", \"\", text)\n",
        "\n",
        "def change_stripe(text):\n",
        "    return text.replace('-',\" \")\n",
        "\n",
        "def lower(text):\n",
        "    return text.lower()\n",
        "\n",
        "def remove_punctuation(text):\n",
        "    remove = string.punctuation\n",
        "    remove = remove.replace(\"_\", \"\") # don't remove hyphens\n",
        "    pattern = r\"[{}]\".format(remove) # create the pattern\n",
        "    return re.sub(pattern, \"\", text) "
      ]
    },
    {
      "cell_type": "code",
      "execution_count": 11,
      "metadata": {
        "id": "1JYp83Wr5TZ9"
      },
      "outputs": [],
      "source": [
        "final_string = []\n",
        "for text in df['Tweets'].values:\n",
        "    EachReviewText = \"\"\n",
        "    proc = bersih_data(text)\n",
        "    proc = remove_rt(proc) \n",
        "    proc = lower(proc)\n",
        "    proc = change_stripe(proc)\n",
        "    proc = remove_tab(proc)\n",
        "    proc = remove_tab2(proc)\n",
        "    proc = non_ascii(proc)\n",
        "    proc = remove_incomplete_url(proc)\n",
        "    proc = remove_single_char(proc)\n",
        "    proc = remove_punctuation(proc)\n",
        "    proc = remove_space_alzami(proc)\n",
        "    EachReviewText = proc\n",
        "    final_string.append(EachReviewText)"
      ]
    },
    {
      "cell_type": "code",
      "execution_count": 12,
      "metadata": {
        "id": "hEnwmxPz5TXL"
      },
      "outputs": [],
      "source": [
        "df[\"step01\"] = final_string"
      ]
    },
    {
      "cell_type": "code",
      "execution_count": 13,
      "metadata": {
        "id": "dNF0hKpF5TUB",
        "colab": {
          "base_uri": "https://localhost:8080/",
          "height": 206
        },
        "outputId": "cb661cf5-13b7-41c0-9207-59cf7bf1ab7d"
      },
      "outputs": [
        {
          "output_type": "execute_result",
          "data": {
            "text/plain": [
              "                                              Tweets  Analysis  \\\n",
              "0   @Almaylifi tercium bau asap knalpot motor racing         0   \n",
              "1  @hanajihyo iyaa, besok yang pake knalpot racin...         0   \n",
              "2  Motor bebek pake knalpot racing 75ribu, lewat ...        -1   \n",
              "3  @SeputarTetangga Ngebutnya sih gak kenceng tap...         1   \n",
              "4                   @18fesss Knalpot racing original         1   \n",
              "\n",
              "                                              step01  \n",
              "0         user tercium bau asap knalpot motor racing  \n",
              "1   user iyaa besok yang pake knalpot racing itu aku  \n",
              "2  motor bebek pake knalpot racing 7 5 ribu lewat...  \n",
              "3  user ngebutnya sih gak kenceng tapi kalau suar...  \n",
              "4                       user knalpot racing original  "
            ],
            "text/html": [
              "\n",
              "  <div id=\"df-69f1882d-5e35-419f-9860-3775e6925c43\">\n",
              "    <div class=\"colab-df-container\">\n",
              "      <div>\n",
              "<style scoped>\n",
              "    .dataframe tbody tr th:only-of-type {\n",
              "        vertical-align: middle;\n",
              "    }\n",
              "\n",
              "    .dataframe tbody tr th {\n",
              "        vertical-align: top;\n",
              "    }\n",
              "\n",
              "    .dataframe thead th {\n",
              "        text-align: right;\n",
              "    }\n",
              "</style>\n",
              "<table border=\"1\" class=\"dataframe\">\n",
              "  <thead>\n",
              "    <tr style=\"text-align: right;\">\n",
              "      <th></th>\n",
              "      <th>Tweets</th>\n",
              "      <th>Analysis</th>\n",
              "      <th>step01</th>\n",
              "    </tr>\n",
              "  </thead>\n",
              "  <tbody>\n",
              "    <tr>\n",
              "      <th>0</th>\n",
              "      <td>@Almaylifi tercium bau asap knalpot motor racing</td>\n",
              "      <td>0</td>\n",
              "      <td>user tercium bau asap knalpot motor racing</td>\n",
              "    </tr>\n",
              "    <tr>\n",
              "      <th>1</th>\n",
              "      <td>@hanajihyo iyaa, besok yang pake knalpot racin...</td>\n",
              "      <td>0</td>\n",
              "      <td>user iyaa besok yang pake knalpot racing itu aku</td>\n",
              "    </tr>\n",
              "    <tr>\n",
              "      <th>2</th>\n",
              "      <td>Motor bebek pake knalpot racing 75ribu, lewat ...</td>\n",
              "      <td>-1</td>\n",
              "      <td>motor bebek pake knalpot racing 7 5 ribu lewat...</td>\n",
              "    </tr>\n",
              "    <tr>\n",
              "      <th>3</th>\n",
              "      <td>@SeputarTetangga Ngebutnya sih gak kenceng tap...</td>\n",
              "      <td>1</td>\n",
              "      <td>user ngebutnya sih gak kenceng tapi kalau suar...</td>\n",
              "    </tr>\n",
              "    <tr>\n",
              "      <th>4</th>\n",
              "      <td>@18fesss Knalpot racing original</td>\n",
              "      <td>1</td>\n",
              "      <td>user knalpot racing original</td>\n",
              "    </tr>\n",
              "  </tbody>\n",
              "</table>\n",
              "</div>\n",
              "      <button class=\"colab-df-convert\" onclick=\"convertToInteractive('df-69f1882d-5e35-419f-9860-3775e6925c43')\"\n",
              "              title=\"Convert this dataframe to an interactive table.\"\n",
              "              style=\"display:none;\">\n",
              "        \n",
              "  <svg xmlns=\"http://www.w3.org/2000/svg\" height=\"24px\"viewBox=\"0 0 24 24\"\n",
              "       width=\"24px\">\n",
              "    <path d=\"M0 0h24v24H0V0z\" fill=\"none\"/>\n",
              "    <path d=\"M18.56 5.44l.94 2.06.94-2.06 2.06-.94-2.06-.94-.94-2.06-.94 2.06-2.06.94zm-11 1L8.5 8.5l.94-2.06 2.06-.94-2.06-.94L8.5 2.5l-.94 2.06-2.06.94zm10 10l.94 2.06.94-2.06 2.06-.94-2.06-.94-.94-2.06-.94 2.06-2.06.94z\"/><path d=\"M17.41 7.96l-1.37-1.37c-.4-.4-.92-.59-1.43-.59-.52 0-1.04.2-1.43.59L10.3 9.45l-7.72 7.72c-.78.78-.78 2.05 0 2.83L4 21.41c.39.39.9.59 1.41.59.51 0 1.02-.2 1.41-.59l7.78-7.78 2.81-2.81c.8-.78.8-2.07 0-2.86zM5.41 20L4 18.59l7.72-7.72 1.47 1.35L5.41 20z\"/>\n",
              "  </svg>\n",
              "      </button>\n",
              "      \n",
              "  <style>\n",
              "    .colab-df-container {\n",
              "      display:flex;\n",
              "      flex-wrap:wrap;\n",
              "      gap: 12px;\n",
              "    }\n",
              "\n",
              "    .colab-df-convert {\n",
              "      background-color: #E8F0FE;\n",
              "      border: none;\n",
              "      border-radius: 50%;\n",
              "      cursor: pointer;\n",
              "      display: none;\n",
              "      fill: #1967D2;\n",
              "      height: 32px;\n",
              "      padding: 0 0 0 0;\n",
              "      width: 32px;\n",
              "    }\n",
              "\n",
              "    .colab-df-convert:hover {\n",
              "      background-color: #E2EBFA;\n",
              "      box-shadow: 0px 1px 2px rgba(60, 64, 67, 0.3), 0px 1px 3px 1px rgba(60, 64, 67, 0.15);\n",
              "      fill: #174EA6;\n",
              "    }\n",
              "\n",
              "    [theme=dark] .colab-df-convert {\n",
              "      background-color: #3B4455;\n",
              "      fill: #D2E3FC;\n",
              "    }\n",
              "\n",
              "    [theme=dark] .colab-df-convert:hover {\n",
              "      background-color: #434B5C;\n",
              "      box-shadow: 0px 1px 3px 1px rgba(0, 0, 0, 0.15);\n",
              "      filter: drop-shadow(0px 1px 2px rgba(0, 0, 0, 0.3));\n",
              "      fill: #FFFFFF;\n",
              "    }\n",
              "  </style>\n",
              "\n",
              "      <script>\n",
              "        const buttonEl =\n",
              "          document.querySelector('#df-69f1882d-5e35-419f-9860-3775e6925c43 button.colab-df-convert');\n",
              "        buttonEl.style.display =\n",
              "          google.colab.kernel.accessAllowed ? 'block' : 'none';\n",
              "\n",
              "        async function convertToInteractive(key) {\n",
              "          const element = document.querySelector('#df-69f1882d-5e35-419f-9860-3775e6925c43');\n",
              "          const dataTable =\n",
              "            await google.colab.kernel.invokeFunction('convertToInteractive',\n",
              "                                                     [key], {});\n",
              "          if (!dataTable) return;\n",
              "\n",
              "          const docLinkHtml = 'Like what you see? Visit the ' +\n",
              "            '<a target=\"_blank\" href=https://colab.research.google.com/notebooks/data_table.ipynb>data table notebook</a>'\n",
              "            + ' to learn more about interactive tables.';\n",
              "          element.innerHTML = '';\n",
              "          dataTable['output_type'] = 'display_data';\n",
              "          await google.colab.output.renderOutput(dataTable, element);\n",
              "          const docLink = document.createElement('div');\n",
              "          docLink.innerHTML = docLinkHtml;\n",
              "          element.appendChild(docLink);\n",
              "        }\n",
              "      </script>\n",
              "    </div>\n",
              "  </div>\n",
              "  "
            ]
          },
          "metadata": {},
          "execution_count": 13
        }
      ],
      "source": [
        "df.head()"
      ]
    },
    {
      "cell_type": "code",
      "execution_count": 14,
      "metadata": {
        "id": "-zfu0mx95TRH",
        "colab": {
          "base_uri": "https://localhost:8080/"
        },
        "outputId": "69d49cf4-530b-4c0c-8ca1-b98824d7b97d"
      },
      "outputs": [
        {
          "output_type": "stream",
          "name": "stdout",
          "text": [
            "<class 'pandas.core.frame.DataFrame'>\n",
            "RangeIndex: 100 entries, 0 to 99\n",
            "Data columns (total 3 columns):\n",
            " #   Column    Non-Null Count  Dtype \n",
            "---  ------    --------------  ----- \n",
            " 0   Tweets    100 non-null    object\n",
            " 1   Analysis  100 non-null    int64 \n",
            " 2   step01    100 non-null    object\n",
            "dtypes: int64(1), object(2)\n",
            "memory usage: 2.5+ KB\n"
          ]
        }
      ],
      "source": [
        "df.info()"
      ]
    },
    {
      "cell_type": "code",
      "execution_count": 15,
      "metadata": {
        "id": "zQ8PJgyw5TOT"
      },
      "outputs": [],
      "source": [
        "df_hapus = df[~df['step01'].str.contains(\" \")]"
      ]
    },
    {
      "cell_type": "code",
      "execution_count": 16,
      "metadata": {
        "id": "vshj-j8c5TLs"
      },
      "outputs": [],
      "source": [
        "df_new = df[~df.isin(df_hapus)].dropna()"
      ]
    },
    {
      "cell_type": "code",
      "execution_count": 17,
      "metadata": {
        "id": "zbVY0nEa5TJA",
        "colab": {
          "base_uri": "https://localhost:8080/"
        },
        "outputId": "1adae68f-c6b1-4646-fd67-258c72666c17"
      },
      "outputs": [
        {
          "output_type": "stream",
          "name": "stdout",
          "text": [
            "<class 'pandas.core.frame.DataFrame'>\n",
            "Int64Index: 100 entries, 0 to 99\n",
            "Data columns (total 3 columns):\n",
            " #   Column    Non-Null Count  Dtype \n",
            "---  ------    --------------  ----- \n",
            " 0   Tweets    100 non-null    object\n",
            " 1   Analysis  100 non-null    int64 \n",
            " 2   step01    100 non-null    object\n",
            "dtypes: int64(1), object(2)\n",
            "memory usage: 3.1+ KB\n"
          ]
        }
      ],
      "source": [
        "df_new.info()"
      ]
    },
    {
      "cell_type": "code",
      "execution_count": 18,
      "metadata": {
        "id": "93-G1d7m5TGT",
        "colab": {
          "base_uri": "https://localhost:8080/"
        },
        "outputId": "bb0786d8-10b1-4c62-d11a-c5fb006a251a"
      },
      "outputs": [
        {
          "output_type": "stream",
          "name": "stderr",
          "text": [
            "[nltk_data] Downloading package punkt to /root/nltk_data...\n",
            "[nltk_data]   Unzipping tokenizers/punkt.zip.\n"
          ]
        }
      ],
      "source": [
        "# token\n",
        "import nltk\n",
        "nltk.download('punkt')\n",
        "from nltk.tokenize import word_tokenize "
      ]
    },
    {
      "cell_type": "code",
      "execution_count": 19,
      "metadata": {
        "id": "wyEgo_Ji5TC9"
      },
      "outputs": [],
      "source": [
        "def word_tokenize_wrapper(text):\n",
        "  return word_tokenize(text)"
      ]
    },
    {
      "cell_type": "code",
      "execution_count": 20,
      "metadata": {
        "id": "Gniqx03j5S_7"
      },
      "outputs": [],
      "source": [
        "df_new['tokens'] = df['step01'].apply(word_tokenize_wrapper)"
      ]
    },
    {
      "cell_type": "code",
      "execution_count": 21,
      "metadata": {
        "id": "m_WTLMgz5S9X",
        "colab": {
          "base_uri": "https://localhost:8080/",
          "height": 363
        },
        "outputId": "c438af72-00f7-4590-998f-89de5bf758b5"
      },
      "outputs": [
        {
          "output_type": "execute_result",
          "data": {
            "text/plain": [
              "                                              Tweets  Analysis  \\\n",
              "0   @Almaylifi tercium bau asap knalpot motor racing         0   \n",
              "1  @hanajihyo iyaa, besok yang pake knalpot racin...         0   \n",
              "2  Motor bebek pake knalpot racing 75ribu, lewat ...        -1   \n",
              "3  @SeputarTetangga Ngebutnya sih gak kenceng tap...         1   \n",
              "4                   @18fesss Knalpot racing original         1   \n",
              "5  NJING JAMET BANGET LO. PASTI KALAU NAIK MOTOR ...         1   \n",
              "6  Pekain saja dengan pekajaman \\n\\nReady bosquee...         0   \n",
              "7  Rasanya dah kaya oven apalagi surabaya tuh pan...         1   \n",
              "8  Ie bengkel sebelah loba motor sonic pake knalp...         0   \n",
              "9  Hujan plus lagu sedih, emang mendukung, sempat...         1   \n",
              "\n",
              "                                              step01  \\\n",
              "0         user tercium bau asap knalpot motor racing   \n",
              "1   user iyaa besok yang pake knalpot racing itu aku   \n",
              "2  motor bebek pake knalpot racing 7 5 ribu lewat...   \n",
              "3  user ngebutnya sih gak kenceng tapi kalau suar...   \n",
              "4                       user knalpot racing original   \n",
              "5  allcaps njing jamet banget lo allcaps allcaps ...   \n",
              "6  pekain saja dengan pekajaman ready bosque elon...   \n",
              "7  rasanya dah kaya oven apalagi surabaya tuh pan...   \n",
              "8  ie bengkel sebelah loba motor sonic pake knalp...   \n",
              "9  hujan plus lagu sedih emang mendukung sempat d...   \n",
              "\n",
              "                                              tokens  \n",
              "0  [user, tercium, bau, asap, knalpot, motor, rac...  \n",
              "1  [user, iyaa, besok, yang, pake, knalpot, racin...  \n",
              "2  [motor, bebek, pake, knalpot, racing, 7, 5, ri...  \n",
              "3  [user, ngebutnya, sih, gak, kenceng, tapi, kal...  \n",
              "4                  [user, knalpot, racing, original]  \n",
              "5  [allcaps, njing, jamet, banget, lo, allcaps, a...  \n",
              "6  [pekain, saja, dengan, pekajaman, ready, bosqu...  \n",
              "7  [rasanya, dah, kaya, oven, apalagi, surabaya, ...  \n",
              "8  [ie, bengkel, sebelah, loba, motor, sonic, pak...  \n",
              "9  [hujan, plus, lagu, sedih, emang, mendukung, s...  "
            ],
            "text/html": [
              "\n",
              "  <div id=\"df-dca20641-5c7f-4f6f-a21b-968efd28e302\">\n",
              "    <div class=\"colab-df-container\">\n",
              "      <div>\n",
              "<style scoped>\n",
              "    .dataframe tbody tr th:only-of-type {\n",
              "        vertical-align: middle;\n",
              "    }\n",
              "\n",
              "    .dataframe tbody tr th {\n",
              "        vertical-align: top;\n",
              "    }\n",
              "\n",
              "    .dataframe thead th {\n",
              "        text-align: right;\n",
              "    }\n",
              "</style>\n",
              "<table border=\"1\" class=\"dataframe\">\n",
              "  <thead>\n",
              "    <tr style=\"text-align: right;\">\n",
              "      <th></th>\n",
              "      <th>Tweets</th>\n",
              "      <th>Analysis</th>\n",
              "      <th>step01</th>\n",
              "      <th>tokens</th>\n",
              "    </tr>\n",
              "  </thead>\n",
              "  <tbody>\n",
              "    <tr>\n",
              "      <th>0</th>\n",
              "      <td>@Almaylifi tercium bau asap knalpot motor racing</td>\n",
              "      <td>0</td>\n",
              "      <td>user tercium bau asap knalpot motor racing</td>\n",
              "      <td>[user, tercium, bau, asap, knalpot, motor, rac...</td>\n",
              "    </tr>\n",
              "    <tr>\n",
              "      <th>1</th>\n",
              "      <td>@hanajihyo iyaa, besok yang pake knalpot racin...</td>\n",
              "      <td>0</td>\n",
              "      <td>user iyaa besok yang pake knalpot racing itu aku</td>\n",
              "      <td>[user, iyaa, besok, yang, pake, knalpot, racin...</td>\n",
              "    </tr>\n",
              "    <tr>\n",
              "      <th>2</th>\n",
              "      <td>Motor bebek pake knalpot racing 75ribu, lewat ...</td>\n",
              "      <td>-1</td>\n",
              "      <td>motor bebek pake knalpot racing 7 5 ribu lewat...</td>\n",
              "      <td>[motor, bebek, pake, knalpot, racing, 7, 5, ri...</td>\n",
              "    </tr>\n",
              "    <tr>\n",
              "      <th>3</th>\n",
              "      <td>@SeputarTetangga Ngebutnya sih gak kenceng tap...</td>\n",
              "      <td>1</td>\n",
              "      <td>user ngebutnya sih gak kenceng tapi kalau suar...</td>\n",
              "      <td>[user, ngebutnya, sih, gak, kenceng, tapi, kal...</td>\n",
              "    </tr>\n",
              "    <tr>\n",
              "      <th>4</th>\n",
              "      <td>@18fesss Knalpot racing original</td>\n",
              "      <td>1</td>\n",
              "      <td>user knalpot racing original</td>\n",
              "      <td>[user, knalpot, racing, original]</td>\n",
              "    </tr>\n",
              "    <tr>\n",
              "      <th>5</th>\n",
              "      <td>NJING JAMET BANGET LO. PASTI KALAU NAIK MOTOR ...</td>\n",
              "      <td>1</td>\n",
              "      <td>allcaps njing jamet banget lo allcaps allcaps ...</td>\n",
              "      <td>[allcaps, njing, jamet, banget, lo, allcaps, a...</td>\n",
              "    </tr>\n",
              "    <tr>\n",
              "      <th>6</th>\n",
              "      <td>Pekain saja dengan pekajaman \\n\\nReady bosquee...</td>\n",
              "      <td>0</td>\n",
              "      <td>pekain saja dengan pekajaman ready bosque elon...</td>\n",
              "      <td>[pekain, saja, dengan, pekajaman, ready, bosqu...</td>\n",
              "    </tr>\n",
              "    <tr>\n",
              "      <th>7</th>\n",
              "      <td>Rasanya dah kaya oven apalagi surabaya tuh pan...</td>\n",
              "      <td>1</td>\n",
              "      <td>rasanya dah kaya oven apalagi surabaya tuh pan...</td>\n",
              "      <td>[rasanya, dah, kaya, oven, apalagi, surabaya, ...</td>\n",
              "    </tr>\n",
              "    <tr>\n",
              "      <th>8</th>\n",
              "      <td>Ie bengkel sebelah loba motor sonic pake knalp...</td>\n",
              "      <td>0</td>\n",
              "      <td>ie bengkel sebelah loba motor sonic pake knalp...</td>\n",
              "      <td>[ie, bengkel, sebelah, loba, motor, sonic, pak...</td>\n",
              "    </tr>\n",
              "    <tr>\n",
              "      <th>9</th>\n",
              "      <td>Hujan plus lagu sedih, emang mendukung, sempat...</td>\n",
              "      <td>1</td>\n",
              "      <td>hujan plus lagu sedih emang mendukung sempat d...</td>\n",
              "      <td>[hujan, plus, lagu, sedih, emang, mendukung, s...</td>\n",
              "    </tr>\n",
              "  </tbody>\n",
              "</table>\n",
              "</div>\n",
              "      <button class=\"colab-df-convert\" onclick=\"convertToInteractive('df-dca20641-5c7f-4f6f-a21b-968efd28e302')\"\n",
              "              title=\"Convert this dataframe to an interactive table.\"\n",
              "              style=\"display:none;\">\n",
              "        \n",
              "  <svg xmlns=\"http://www.w3.org/2000/svg\" height=\"24px\"viewBox=\"0 0 24 24\"\n",
              "       width=\"24px\">\n",
              "    <path d=\"M0 0h24v24H0V0z\" fill=\"none\"/>\n",
              "    <path d=\"M18.56 5.44l.94 2.06.94-2.06 2.06-.94-2.06-.94-.94-2.06-.94 2.06-2.06.94zm-11 1L8.5 8.5l.94-2.06 2.06-.94-2.06-.94L8.5 2.5l-.94 2.06-2.06.94zm10 10l.94 2.06.94-2.06 2.06-.94-2.06-.94-.94-2.06-.94 2.06-2.06.94z\"/><path d=\"M17.41 7.96l-1.37-1.37c-.4-.4-.92-.59-1.43-.59-.52 0-1.04.2-1.43.59L10.3 9.45l-7.72 7.72c-.78.78-.78 2.05 0 2.83L4 21.41c.39.39.9.59 1.41.59.51 0 1.02-.2 1.41-.59l7.78-7.78 2.81-2.81c.8-.78.8-2.07 0-2.86zM5.41 20L4 18.59l7.72-7.72 1.47 1.35L5.41 20z\"/>\n",
              "  </svg>\n",
              "      </button>\n",
              "      \n",
              "  <style>\n",
              "    .colab-df-container {\n",
              "      display:flex;\n",
              "      flex-wrap:wrap;\n",
              "      gap: 12px;\n",
              "    }\n",
              "\n",
              "    .colab-df-convert {\n",
              "      background-color: #E8F0FE;\n",
              "      border: none;\n",
              "      border-radius: 50%;\n",
              "      cursor: pointer;\n",
              "      display: none;\n",
              "      fill: #1967D2;\n",
              "      height: 32px;\n",
              "      padding: 0 0 0 0;\n",
              "      width: 32px;\n",
              "    }\n",
              "\n",
              "    .colab-df-convert:hover {\n",
              "      background-color: #E2EBFA;\n",
              "      box-shadow: 0px 1px 2px rgba(60, 64, 67, 0.3), 0px 1px 3px 1px rgba(60, 64, 67, 0.15);\n",
              "      fill: #174EA6;\n",
              "    }\n",
              "\n",
              "    [theme=dark] .colab-df-convert {\n",
              "      background-color: #3B4455;\n",
              "      fill: #D2E3FC;\n",
              "    }\n",
              "\n",
              "    [theme=dark] .colab-df-convert:hover {\n",
              "      background-color: #434B5C;\n",
              "      box-shadow: 0px 1px 3px 1px rgba(0, 0, 0, 0.15);\n",
              "      filter: drop-shadow(0px 1px 2px rgba(0, 0, 0, 0.3));\n",
              "      fill: #FFFFFF;\n",
              "    }\n",
              "  </style>\n",
              "\n",
              "      <script>\n",
              "        const buttonEl =\n",
              "          document.querySelector('#df-dca20641-5c7f-4f6f-a21b-968efd28e302 button.colab-df-convert');\n",
              "        buttonEl.style.display =\n",
              "          google.colab.kernel.accessAllowed ? 'block' : 'none';\n",
              "\n",
              "        async function convertToInteractive(key) {\n",
              "          const element = document.querySelector('#df-dca20641-5c7f-4f6f-a21b-968efd28e302');\n",
              "          const dataTable =\n",
              "            await google.colab.kernel.invokeFunction('convertToInteractive',\n",
              "                                                     [key], {});\n",
              "          if (!dataTable) return;\n",
              "\n",
              "          const docLinkHtml = 'Like what you see? Visit the ' +\n",
              "            '<a target=\"_blank\" href=https://colab.research.google.com/notebooks/data_table.ipynb>data table notebook</a>'\n",
              "            + ' to learn more about interactive tables.';\n",
              "          element.innerHTML = '';\n",
              "          dataTable['output_type'] = 'display_data';\n",
              "          await google.colab.output.renderOutput(dataTable, element);\n",
              "          const docLink = document.createElement('div');\n",
              "          docLink.innerHTML = docLinkHtml;\n",
              "          element.appendChild(docLink);\n",
              "        }\n",
              "      </script>\n",
              "    </div>\n",
              "  </div>\n",
              "  "
            ]
          },
          "metadata": {},
          "execution_count": 21
        }
      ],
      "source": [
        "df_new.head(10)"
      ]
    },
    {
      "cell_type": "code",
      "execution_count": 22,
      "metadata": {
        "id": "QrCSk8yR5S6Z"
      },
      "outputs": [],
      "source": [
        "normalized_word = pd.read_excel(\"/content/drive/My Drive/Colab Notebooks/AMS2022/kamus perbaikan kata.xlsx\")\n",
        "\n",
        "normalized_word_dict = {}\n",
        "\n",
        "for index, row in normalized_word.iterrows():\n",
        "    if row[0] not in normalized_word_dict:\n",
        "        normalized_word_dict[row[0]] = row[1] \n",
        "\n",
        "def normalized_term(document):\n",
        "    return [normalized_word_dict[term] if term in normalized_word_dict else term for term in document]\n",
        "\n",
        "df_new['tokens_perbaikan'] = df_new['tokens'].apply(normalized_term)"
      ]
    },
    {
      "cell_type": "code",
      "execution_count": 23,
      "metadata": {
        "id": "kzW4ggBE5S3x",
        "colab": {
          "base_uri": "https://localhost:8080/",
          "height": 320
        },
        "outputId": "d5701dbf-8616-4dfe-f27c-0430c7c8c1c0"
      },
      "outputs": [
        {
          "output_type": "execute_result",
          "data": {
            "text/plain": [
              "                                              Tweets  Analysis  \\\n",
              "0   @Almaylifi tercium bau asap knalpot motor racing         0   \n",
              "1  @hanajihyo iyaa, besok yang pake knalpot racin...         0   \n",
              "2  Motor bebek pake knalpot racing 75ribu, lewat ...        -1   \n",
              "3  @SeputarTetangga Ngebutnya sih gak kenceng tap...         1   \n",
              "4                   @18fesss Knalpot racing original         1   \n",
              "\n",
              "                                              step01  \\\n",
              "0         user tercium bau asap knalpot motor racing   \n",
              "1   user iyaa besok yang pake knalpot racing itu aku   \n",
              "2  motor bebek pake knalpot racing 7 5 ribu lewat...   \n",
              "3  user ngebutnya sih gak kenceng tapi kalau suar...   \n",
              "4                       user knalpot racing original   \n",
              "\n",
              "                                              tokens  \\\n",
              "0  [user, tercium, bau, asap, knalpot, motor, rac...   \n",
              "1  [user, iyaa, besok, yang, pake, knalpot, racin...   \n",
              "2  [motor, bebek, pake, knalpot, racing, 7, 5, ri...   \n",
              "3  [user, ngebutnya, sih, gak, kenceng, tapi, kal...   \n",
              "4                  [user, knalpot, racing, original]   \n",
              "\n",
              "                                    tokens_perbaikan  \n",
              "0  [user, tercium, bau, asap, knalpot, motor, rac...  \n",
              "1  [user, iyaa, besok, yang, pakai, knalpot, raci...  \n",
              "2  [motor, bebek, pakai, knalpot, racing, 7, 5, r...  \n",
              "3  [user, ngebutnya, sih, tidak, kenceng, tapi, k...  \n",
              "4                  [user, knalpot, racing, original]  "
            ],
            "text/html": [
              "\n",
              "  <div id=\"df-c11aa5ed-c28b-4452-a787-989e749b3a7e\">\n",
              "    <div class=\"colab-df-container\">\n",
              "      <div>\n",
              "<style scoped>\n",
              "    .dataframe tbody tr th:only-of-type {\n",
              "        vertical-align: middle;\n",
              "    }\n",
              "\n",
              "    .dataframe tbody tr th {\n",
              "        vertical-align: top;\n",
              "    }\n",
              "\n",
              "    .dataframe thead th {\n",
              "        text-align: right;\n",
              "    }\n",
              "</style>\n",
              "<table border=\"1\" class=\"dataframe\">\n",
              "  <thead>\n",
              "    <tr style=\"text-align: right;\">\n",
              "      <th></th>\n",
              "      <th>Tweets</th>\n",
              "      <th>Analysis</th>\n",
              "      <th>step01</th>\n",
              "      <th>tokens</th>\n",
              "      <th>tokens_perbaikan</th>\n",
              "    </tr>\n",
              "  </thead>\n",
              "  <tbody>\n",
              "    <tr>\n",
              "      <th>0</th>\n",
              "      <td>@Almaylifi tercium bau asap knalpot motor racing</td>\n",
              "      <td>0</td>\n",
              "      <td>user tercium bau asap knalpot motor racing</td>\n",
              "      <td>[user, tercium, bau, asap, knalpot, motor, rac...</td>\n",
              "      <td>[user, tercium, bau, asap, knalpot, motor, rac...</td>\n",
              "    </tr>\n",
              "    <tr>\n",
              "      <th>1</th>\n",
              "      <td>@hanajihyo iyaa, besok yang pake knalpot racin...</td>\n",
              "      <td>0</td>\n",
              "      <td>user iyaa besok yang pake knalpot racing itu aku</td>\n",
              "      <td>[user, iyaa, besok, yang, pake, knalpot, racin...</td>\n",
              "      <td>[user, iyaa, besok, yang, pakai, knalpot, raci...</td>\n",
              "    </tr>\n",
              "    <tr>\n",
              "      <th>2</th>\n",
              "      <td>Motor bebek pake knalpot racing 75ribu, lewat ...</td>\n",
              "      <td>-1</td>\n",
              "      <td>motor bebek pake knalpot racing 7 5 ribu lewat...</td>\n",
              "      <td>[motor, bebek, pake, knalpot, racing, 7, 5, ri...</td>\n",
              "      <td>[motor, bebek, pakai, knalpot, racing, 7, 5, r...</td>\n",
              "    </tr>\n",
              "    <tr>\n",
              "      <th>3</th>\n",
              "      <td>@SeputarTetangga Ngebutnya sih gak kenceng tap...</td>\n",
              "      <td>1</td>\n",
              "      <td>user ngebutnya sih gak kenceng tapi kalau suar...</td>\n",
              "      <td>[user, ngebutnya, sih, gak, kenceng, tapi, kal...</td>\n",
              "      <td>[user, ngebutnya, sih, tidak, kenceng, tapi, k...</td>\n",
              "    </tr>\n",
              "    <tr>\n",
              "      <th>4</th>\n",
              "      <td>@18fesss Knalpot racing original</td>\n",
              "      <td>1</td>\n",
              "      <td>user knalpot racing original</td>\n",
              "      <td>[user, knalpot, racing, original]</td>\n",
              "      <td>[user, knalpot, racing, original]</td>\n",
              "    </tr>\n",
              "  </tbody>\n",
              "</table>\n",
              "</div>\n",
              "      <button class=\"colab-df-convert\" onclick=\"convertToInteractive('df-c11aa5ed-c28b-4452-a787-989e749b3a7e')\"\n",
              "              title=\"Convert this dataframe to an interactive table.\"\n",
              "              style=\"display:none;\">\n",
              "        \n",
              "  <svg xmlns=\"http://www.w3.org/2000/svg\" height=\"24px\"viewBox=\"0 0 24 24\"\n",
              "       width=\"24px\">\n",
              "    <path d=\"M0 0h24v24H0V0z\" fill=\"none\"/>\n",
              "    <path d=\"M18.56 5.44l.94 2.06.94-2.06 2.06-.94-2.06-.94-.94-2.06-.94 2.06-2.06.94zm-11 1L8.5 8.5l.94-2.06 2.06-.94-2.06-.94L8.5 2.5l-.94 2.06-2.06.94zm10 10l.94 2.06.94-2.06 2.06-.94-2.06-.94-.94-2.06-.94 2.06-2.06.94z\"/><path d=\"M17.41 7.96l-1.37-1.37c-.4-.4-.92-.59-1.43-.59-.52 0-1.04.2-1.43.59L10.3 9.45l-7.72 7.72c-.78.78-.78 2.05 0 2.83L4 21.41c.39.39.9.59 1.41.59.51 0 1.02-.2 1.41-.59l7.78-7.78 2.81-2.81c.8-.78.8-2.07 0-2.86zM5.41 20L4 18.59l7.72-7.72 1.47 1.35L5.41 20z\"/>\n",
              "  </svg>\n",
              "      </button>\n",
              "      \n",
              "  <style>\n",
              "    .colab-df-container {\n",
              "      display:flex;\n",
              "      flex-wrap:wrap;\n",
              "      gap: 12px;\n",
              "    }\n",
              "\n",
              "    .colab-df-convert {\n",
              "      background-color: #E8F0FE;\n",
              "      border: none;\n",
              "      border-radius: 50%;\n",
              "      cursor: pointer;\n",
              "      display: none;\n",
              "      fill: #1967D2;\n",
              "      height: 32px;\n",
              "      padding: 0 0 0 0;\n",
              "      width: 32px;\n",
              "    }\n",
              "\n",
              "    .colab-df-convert:hover {\n",
              "      background-color: #E2EBFA;\n",
              "      box-shadow: 0px 1px 2px rgba(60, 64, 67, 0.3), 0px 1px 3px 1px rgba(60, 64, 67, 0.15);\n",
              "      fill: #174EA6;\n",
              "    }\n",
              "\n",
              "    [theme=dark] .colab-df-convert {\n",
              "      background-color: #3B4455;\n",
              "      fill: #D2E3FC;\n",
              "    }\n",
              "\n",
              "    [theme=dark] .colab-df-convert:hover {\n",
              "      background-color: #434B5C;\n",
              "      box-shadow: 0px 1px 3px 1px rgba(0, 0, 0, 0.15);\n",
              "      filter: drop-shadow(0px 1px 2px rgba(0, 0, 0, 0.3));\n",
              "      fill: #FFFFFF;\n",
              "    }\n",
              "  </style>\n",
              "\n",
              "      <script>\n",
              "        const buttonEl =\n",
              "          document.querySelector('#df-c11aa5ed-c28b-4452-a787-989e749b3a7e button.colab-df-convert');\n",
              "        buttonEl.style.display =\n",
              "          google.colab.kernel.accessAllowed ? 'block' : 'none';\n",
              "\n",
              "        async function convertToInteractive(key) {\n",
              "          const element = document.querySelector('#df-c11aa5ed-c28b-4452-a787-989e749b3a7e');\n",
              "          const dataTable =\n",
              "            await google.colab.kernel.invokeFunction('convertToInteractive',\n",
              "                                                     [key], {});\n",
              "          if (!dataTable) return;\n",
              "\n",
              "          const docLinkHtml = 'Like what you see? Visit the ' +\n",
              "            '<a target=\"_blank\" href=https://colab.research.google.com/notebooks/data_table.ipynb>data table notebook</a>'\n",
              "            + ' to learn more about interactive tables.';\n",
              "          element.innerHTML = '';\n",
              "          dataTable['output_type'] = 'display_data';\n",
              "          await google.colab.output.renderOutput(dataTable, element);\n",
              "          const docLink = document.createElement('div');\n",
              "          docLink.innerHTML = docLinkHtml;\n",
              "          element.appendChild(docLink);\n",
              "        }\n",
              "      </script>\n",
              "    </div>\n",
              "  </div>\n",
              "  "
            ]
          },
          "metadata": {},
          "execution_count": 23
        }
      ],
      "source": [
        "df_new.head()"
      ]
    },
    {
      "cell_type": "code",
      "execution_count": 24,
      "metadata": {
        "id": "mfCNMmya5S04",
        "colab": {
          "base_uri": "https://localhost:8080/"
        },
        "outputId": "05443ff8-573e-4962-ef52-b5f98a45c581"
      },
      "outputs": [
        {
          "output_type": "execute_result",
          "data": {
            "text/plain": [
              "['user', 'tercium', 'bau', 'asap', 'knalpot', 'motor', 'racing']"
            ]
          },
          "metadata": {},
          "execution_count": 24
        }
      ],
      "source": [
        "df_new.iloc[0].tokens"
      ]
    },
    {
      "cell_type": "code",
      "execution_count": 25,
      "metadata": {
        "id": "oqOxnEzo5SyT",
        "colab": {
          "base_uri": "https://localhost:8080/"
        },
        "outputId": "217f65c5-120a-422c-8577-0392ab4be272"
      },
      "outputs": [
        {
          "output_type": "execute_result",
          "data": {
            "text/plain": [
              "['user', 'tercium', 'bau', 'asap', 'knalpot', 'motor', 'racing']"
            ]
          },
          "metadata": {},
          "execution_count": 25
        }
      ],
      "source": [
        "df_new.iloc[0].tokens_perbaikan"
      ]
    },
    {
      "cell_type": "code",
      "execution_count": 26,
      "metadata": {
        "id": "NwC63UG65Sv5",
        "colab": {
          "base_uri": "https://localhost:8080/"
        },
        "outputId": "05f7b453-e406-4467-8d24-a200a9b4a4cc"
      },
      "outputs": [
        {
          "output_type": "stream",
          "name": "stderr",
          "text": [
            "[nltk_data] Downloading package stopwords to /root/nltk_data...\n",
            "[nltk_data]   Unzipping corpora/stopwords.zip.\n"
          ]
        },
        {
          "output_type": "execute_result",
          "data": {
            "text/plain": [
              "True"
            ]
          },
          "metadata": {},
          "execution_count": 26
        }
      ],
      "source": [
        "from nltk.corpus import stopwords\n",
        "nltk.download(\"stopwords\")"
      ]
    },
    {
      "cell_type": "code",
      "execution_count": 27,
      "metadata": {
        "id": "6KDfoSQL5Ss7",
        "colab": {
          "base_uri": "https://localhost:8080/",
          "height": 624
        },
        "outputId": "a26638f4-0b78-417d-d620-dfb8d658a2ee"
      },
      "outputs": [
        {
          "output_type": "execute_result",
          "data": {
            "text/plain": [
              "                                               Tweets  Analysis  \\\n",
              "0    @Almaylifi tercium bau asap knalpot motor racing         0   \n",
              "1   @hanajihyo iyaa, besok yang pake knalpot racin...         0   \n",
              "2   Motor bebek pake knalpot racing 75ribu, lewat ...        -1   \n",
              "3   @SeputarTetangga Ngebutnya sih gak kenceng tap...         1   \n",
              "4                    @18fesss Knalpot racing original         1   \n",
              "..                                                ...       ...   \n",
              "95  @jek___ tat lu pernah ga pas kentut suaranya k...         1   \n",
              "96  Saya menjual knalpot cb150 r face... seharga R...         0   \n",
              "97  Saya menjual knalpot fiz r stainl... seharga R...         0   \n",
              "98  @guddayla @cursedkidd gmw,, wili pke knalpot r...         0   \n",
              "99  tolong pak sekalian motor cc kecil yg pake kna...        -1   \n",
              "\n",
              "                                               step01  \\\n",
              "0          user tercium bau asap knalpot motor racing   \n",
              "1    user iyaa besok yang pake knalpot racing itu aku   \n",
              "2   motor bebek pake knalpot racing 7 5 ribu lewat...   \n",
              "3   user ngebutnya sih gak kenceng tapi kalau suar...   \n",
              "4                        user knalpot racing original   \n",
              "..                                                ...   \n",
              "95  user tat lu pernah ga pas kentut suaranya kek ...   \n",
              "96  saya menjual knalpot cb150 face repeated sehar...   \n",
              "97  saya menjual knalpot fiz stainl repeated sehar...   \n",
              "98              user user gmw wili pke knalpot racing   \n",
              "99  tolong pak sekalian motor cc kecil yg pake kna...   \n",
              "\n",
              "                                               tokens  \\\n",
              "0   [user, tercium, bau, asap, knalpot, motor, rac...   \n",
              "1   [user, iyaa, besok, yang, pake, knalpot, racin...   \n",
              "2   [motor, bebek, pake, knalpot, racing, 7, 5, ri...   \n",
              "3   [user, ngebutnya, sih, gak, kenceng, tapi, kal...   \n",
              "4                   [user, knalpot, racing, original]   \n",
              "..                                                ...   \n",
              "95  [user, tat, lu, pernah, ga, pas, kentut, suara...   \n",
              "96  [saya, menjual, knalpot, cb150, face, repeated...   \n",
              "97  [saya, menjual, knalpot, fiz, stainl, repeated...   \n",
              "98      [user, user, gmw, wili, pke, knalpot, racing]   \n",
              "99  [tolong, pak, sekalian, motor, cc, kecil, yg, ...   \n",
              "\n",
              "                                     tokens_perbaikan  \\\n",
              "0   [user, tercium, bau, asap, knalpot, motor, rac...   \n",
              "1   [user, iyaa, besok, yang, pakai, knalpot, raci...   \n",
              "2   [motor, bebek, pakai, knalpot, racing, 7, 5, r...   \n",
              "3   [user, ngebutnya, sih, tidak, kenceng, tapi, k...   \n",
              "4                   [user, knalpot, racing, original]   \n",
              "..                                                ...   \n",
              "95  [user, tat, kamu, pernah, tidak, cocok, kentut...   \n",
              "96  [saya, menjual, knalpot, cb150, face, repeated...   \n",
              "97  [saya, menjual, knalpot, fiz, stainl, repeated...   \n",
              "98    [user, user, gmw, wili, pakai, knalpot, racing]   \n",
              "99  [tolong, pak, sekalian, motor, cc, kecil, yang...   \n",
              "\n",
              "                                         Stop_removal  \n",
              "0   [user, tercium, bau, asap, knalpot, motor, rac...  \n",
              "1         [user, iyaa, besok, pakai, knalpot, racing]  \n",
              "2   [motor, bebek, pakai, knalpot, racing, 7, 5, r...  \n",
              "3   [user, ngebutnya, sih, kenceng, suara, knalpot...  \n",
              "4                   [user, knalpot, racing, original]  \n",
              "..                                                ...  \n",
              "95  [user, tat, cocok, kentut, suaranya, kayak, kn...  \n",
              "96  [menjual, knalpot, cb150, face, repeated, seha...  \n",
              "97  [menjual, knalpot, fiz, stainl, repeated, seha...  \n",
              "98    [user, user, gmw, wili, pakai, knalpot, racing]  \n",
              "99  [tolong, motor, cc, pakai, knalpot, racing, di...  \n",
              "\n",
              "[100 rows x 6 columns]"
            ],
            "text/html": [
              "\n",
              "  <div id=\"df-a2ed137f-3ecb-4d3a-afc0-ef3de3aa453e\">\n",
              "    <div class=\"colab-df-container\">\n",
              "      <div>\n",
              "<style scoped>\n",
              "    .dataframe tbody tr th:only-of-type {\n",
              "        vertical-align: middle;\n",
              "    }\n",
              "\n",
              "    .dataframe tbody tr th {\n",
              "        vertical-align: top;\n",
              "    }\n",
              "\n",
              "    .dataframe thead th {\n",
              "        text-align: right;\n",
              "    }\n",
              "</style>\n",
              "<table border=\"1\" class=\"dataframe\">\n",
              "  <thead>\n",
              "    <tr style=\"text-align: right;\">\n",
              "      <th></th>\n",
              "      <th>Tweets</th>\n",
              "      <th>Analysis</th>\n",
              "      <th>step01</th>\n",
              "      <th>tokens</th>\n",
              "      <th>tokens_perbaikan</th>\n",
              "      <th>Stop_removal</th>\n",
              "    </tr>\n",
              "  </thead>\n",
              "  <tbody>\n",
              "    <tr>\n",
              "      <th>0</th>\n",
              "      <td>@Almaylifi tercium bau asap knalpot motor racing</td>\n",
              "      <td>0</td>\n",
              "      <td>user tercium bau asap knalpot motor racing</td>\n",
              "      <td>[user, tercium, bau, asap, knalpot, motor, rac...</td>\n",
              "      <td>[user, tercium, bau, asap, knalpot, motor, rac...</td>\n",
              "      <td>[user, tercium, bau, asap, knalpot, motor, rac...</td>\n",
              "    </tr>\n",
              "    <tr>\n",
              "      <th>1</th>\n",
              "      <td>@hanajihyo iyaa, besok yang pake knalpot racin...</td>\n",
              "      <td>0</td>\n",
              "      <td>user iyaa besok yang pake knalpot racing itu aku</td>\n",
              "      <td>[user, iyaa, besok, yang, pake, knalpot, racin...</td>\n",
              "      <td>[user, iyaa, besok, yang, pakai, knalpot, raci...</td>\n",
              "      <td>[user, iyaa, besok, pakai, knalpot, racing]</td>\n",
              "    </tr>\n",
              "    <tr>\n",
              "      <th>2</th>\n",
              "      <td>Motor bebek pake knalpot racing 75ribu, lewat ...</td>\n",
              "      <td>-1</td>\n",
              "      <td>motor bebek pake knalpot racing 7 5 ribu lewat...</td>\n",
              "      <td>[motor, bebek, pake, knalpot, racing, 7, 5, ri...</td>\n",
              "      <td>[motor, bebek, pakai, knalpot, racing, 7, 5, r...</td>\n",
              "      <td>[motor, bebek, pakai, knalpot, racing, 7, 5, r...</td>\n",
              "    </tr>\n",
              "    <tr>\n",
              "      <th>3</th>\n",
              "      <td>@SeputarTetangga Ngebutnya sih gak kenceng tap...</td>\n",
              "      <td>1</td>\n",
              "      <td>user ngebutnya sih gak kenceng tapi kalau suar...</td>\n",
              "      <td>[user, ngebutnya, sih, gak, kenceng, tapi, kal...</td>\n",
              "      <td>[user, ngebutnya, sih, tidak, kenceng, tapi, k...</td>\n",
              "      <td>[user, ngebutnya, sih, kenceng, suara, knalpot...</td>\n",
              "    </tr>\n",
              "    <tr>\n",
              "      <th>4</th>\n",
              "      <td>@18fesss Knalpot racing original</td>\n",
              "      <td>1</td>\n",
              "      <td>user knalpot racing original</td>\n",
              "      <td>[user, knalpot, racing, original]</td>\n",
              "      <td>[user, knalpot, racing, original]</td>\n",
              "      <td>[user, knalpot, racing, original]</td>\n",
              "    </tr>\n",
              "    <tr>\n",
              "      <th>...</th>\n",
              "      <td>...</td>\n",
              "      <td>...</td>\n",
              "      <td>...</td>\n",
              "      <td>...</td>\n",
              "      <td>...</td>\n",
              "      <td>...</td>\n",
              "    </tr>\n",
              "    <tr>\n",
              "      <th>95</th>\n",
              "      <td>@jek___ tat lu pernah ga pas kentut suaranya k...</td>\n",
              "      <td>1</td>\n",
              "      <td>user tat lu pernah ga pas kentut suaranya kek ...</td>\n",
              "      <td>[user, tat, lu, pernah, ga, pas, kentut, suara...</td>\n",
              "      <td>[user, tat, kamu, pernah, tidak, cocok, kentut...</td>\n",
              "      <td>[user, tat, cocok, kentut, suaranya, kayak, kn...</td>\n",
              "    </tr>\n",
              "    <tr>\n",
              "      <th>96</th>\n",
              "      <td>Saya menjual knalpot cb150 r face... seharga R...</td>\n",
              "      <td>0</td>\n",
              "      <td>saya menjual knalpot cb150 face repeated sehar...</td>\n",
              "      <td>[saya, menjual, knalpot, cb150, face, repeated...</td>\n",
              "      <td>[saya, menjual, knalpot, cb150, face, repeated...</td>\n",
              "      <td>[menjual, knalpot, cb150, face, repeated, seha...</td>\n",
              "    </tr>\n",
              "    <tr>\n",
              "      <th>97</th>\n",
              "      <td>Saya menjual knalpot fiz r stainl... seharga R...</td>\n",
              "      <td>0</td>\n",
              "      <td>saya menjual knalpot fiz stainl repeated sehar...</td>\n",
              "      <td>[saya, menjual, knalpot, fiz, stainl, repeated...</td>\n",
              "      <td>[saya, menjual, knalpot, fiz, stainl, repeated...</td>\n",
              "      <td>[menjual, knalpot, fiz, stainl, repeated, seha...</td>\n",
              "    </tr>\n",
              "    <tr>\n",
              "      <th>98</th>\n",
              "      <td>@guddayla @cursedkidd gmw,, wili pke knalpot r...</td>\n",
              "      <td>0</td>\n",
              "      <td>user user gmw wili pke knalpot racing</td>\n",
              "      <td>[user, user, gmw, wili, pke, knalpot, racing]</td>\n",
              "      <td>[user, user, gmw, wili, pakai, knalpot, racing]</td>\n",
              "      <td>[user, user, gmw, wili, pakai, knalpot, racing]</td>\n",
              "    </tr>\n",
              "    <tr>\n",
              "      <th>99</th>\n",
              "      <td>tolong pak sekalian motor cc kecil yg pake kna...</td>\n",
              "      <td>-1</td>\n",
              "      <td>tolong pak sekalian motor cc kecil yg pake kna...</td>\n",
              "      <td>[tolong, pak, sekalian, motor, cc, kecil, yg, ...</td>\n",
              "      <td>[tolong, pak, sekalian, motor, cc, kecil, yang...</td>\n",
              "      <td>[tolong, motor, cc, pakai, knalpot, racing, di...</td>\n",
              "    </tr>\n",
              "  </tbody>\n",
              "</table>\n",
              "<p>100 rows × 6 columns</p>\n",
              "</div>\n",
              "      <button class=\"colab-df-convert\" onclick=\"convertToInteractive('df-a2ed137f-3ecb-4d3a-afc0-ef3de3aa453e')\"\n",
              "              title=\"Convert this dataframe to an interactive table.\"\n",
              "              style=\"display:none;\">\n",
              "        \n",
              "  <svg xmlns=\"http://www.w3.org/2000/svg\" height=\"24px\"viewBox=\"0 0 24 24\"\n",
              "       width=\"24px\">\n",
              "    <path d=\"M0 0h24v24H0V0z\" fill=\"none\"/>\n",
              "    <path d=\"M18.56 5.44l.94 2.06.94-2.06 2.06-.94-2.06-.94-.94-2.06-.94 2.06-2.06.94zm-11 1L8.5 8.5l.94-2.06 2.06-.94-2.06-.94L8.5 2.5l-.94 2.06-2.06.94zm10 10l.94 2.06.94-2.06 2.06-.94-2.06-.94-.94-2.06-.94 2.06-2.06.94z\"/><path d=\"M17.41 7.96l-1.37-1.37c-.4-.4-.92-.59-1.43-.59-.52 0-1.04.2-1.43.59L10.3 9.45l-7.72 7.72c-.78.78-.78 2.05 0 2.83L4 21.41c.39.39.9.59 1.41.59.51 0 1.02-.2 1.41-.59l7.78-7.78 2.81-2.81c.8-.78.8-2.07 0-2.86zM5.41 20L4 18.59l7.72-7.72 1.47 1.35L5.41 20z\"/>\n",
              "  </svg>\n",
              "      </button>\n",
              "      \n",
              "  <style>\n",
              "    .colab-df-container {\n",
              "      display:flex;\n",
              "      flex-wrap:wrap;\n",
              "      gap: 12px;\n",
              "    }\n",
              "\n",
              "    .colab-df-convert {\n",
              "      background-color: #E8F0FE;\n",
              "      border: none;\n",
              "      border-radius: 50%;\n",
              "      cursor: pointer;\n",
              "      display: none;\n",
              "      fill: #1967D2;\n",
              "      height: 32px;\n",
              "      padding: 0 0 0 0;\n",
              "      width: 32px;\n",
              "    }\n",
              "\n",
              "    .colab-df-convert:hover {\n",
              "      background-color: #E2EBFA;\n",
              "      box-shadow: 0px 1px 2px rgba(60, 64, 67, 0.3), 0px 1px 3px 1px rgba(60, 64, 67, 0.15);\n",
              "      fill: #174EA6;\n",
              "    }\n",
              "\n",
              "    [theme=dark] .colab-df-convert {\n",
              "      background-color: #3B4455;\n",
              "      fill: #D2E3FC;\n",
              "    }\n",
              "\n",
              "    [theme=dark] .colab-df-convert:hover {\n",
              "      background-color: #434B5C;\n",
              "      box-shadow: 0px 1px 3px 1px rgba(0, 0, 0, 0.15);\n",
              "      filter: drop-shadow(0px 1px 2px rgba(0, 0, 0, 0.3));\n",
              "      fill: #FFFFFF;\n",
              "    }\n",
              "  </style>\n",
              "\n",
              "      <script>\n",
              "        const buttonEl =\n",
              "          document.querySelector('#df-a2ed137f-3ecb-4d3a-afc0-ef3de3aa453e button.colab-df-convert');\n",
              "        buttonEl.style.display =\n",
              "          google.colab.kernel.accessAllowed ? 'block' : 'none';\n",
              "\n",
              "        async function convertToInteractive(key) {\n",
              "          const element = document.querySelector('#df-a2ed137f-3ecb-4d3a-afc0-ef3de3aa453e');\n",
              "          const dataTable =\n",
              "            await google.colab.kernel.invokeFunction('convertToInteractive',\n",
              "                                                     [key], {});\n",
              "          if (!dataTable) return;\n",
              "\n",
              "          const docLinkHtml = 'Like what you see? Visit the ' +\n",
              "            '<a target=\"_blank\" href=https://colab.research.google.com/notebooks/data_table.ipynb>data table notebook</a>'\n",
              "            + ' to learn more about interactive tables.';\n",
              "          element.innerHTML = '';\n",
              "          dataTable['output_type'] = 'display_data';\n",
              "          await google.colab.output.renderOutput(dataTable, element);\n",
              "          const docLink = document.createElement('div');\n",
              "          docLink.innerHTML = docLinkHtml;\n",
              "          element.appendChild(docLink);\n",
              "        }\n",
              "      </script>\n",
              "    </div>\n",
              "  </div>\n",
              "  "
            ]
          },
          "metadata": {},
          "execution_count": 27
        }
      ],
      "source": [
        "stopword = nltk.corpus.stopwords.words('indonesian')\n",
        "\n",
        "def remove_stopwords(text):\n",
        "  text = [word for word in text if word not in stopword]\n",
        "  return text\n",
        "\n",
        "df_new['Stop_removal'] = df_new['tokens_perbaikan'].apply(lambda x: remove_stopwords(x))\n",
        "df_new"
      ]
    },
    {
      "cell_type": "code",
      "execution_count": 28,
      "metadata": {
        "id": "0SI8z4Jl5SqO",
        "colab": {
          "base_uri": "https://localhost:8080/"
        },
        "outputId": "dd82e81e-1a81-48a6-cba1-e780fd8dd3c6"
      },
      "outputs": [
        {
          "output_type": "execute_result",
          "data": {
            "text/plain": [
              "['user', 'tercium', 'bau', 'asap', 'knalpot', 'motor', 'racing']"
            ]
          },
          "metadata": {},
          "execution_count": 28
        }
      ],
      "source": [
        "df_new.iloc[0].tokens_perbaikan"
      ]
    },
    {
      "cell_type": "code",
      "execution_count": 29,
      "metadata": {
        "id": "LRdX0Lu_5Snq",
        "colab": {
          "base_uri": "https://localhost:8080/"
        },
        "outputId": "2c17f268-6640-49f6-c826-1e7336ddc7c8"
      },
      "outputs": [
        {
          "output_type": "execute_result",
          "data": {
            "text/plain": [
              "['user', 'tercium', 'bau', 'asap', 'knalpot', 'motor', 'racing']"
            ]
          },
          "metadata": {},
          "execution_count": 29
        }
      ],
      "source": [
        "df_new.iloc[0].Stop_removal"
      ]
    },
    {
      "cell_type": "code",
      "execution_count": 30,
      "metadata": {
        "id": "j27y6_8G5SlA"
      },
      "outputs": [],
      "source": [
        "i=0\n",
        "final_string_tokens = []\n",
        "for text in df_new['Stop_removal'].values:\n",
        "    EachReviewText = \"\"\n",
        "    EachReviewText = ' '.join(text)\n",
        "    final_string_tokens.append(EachReviewText)"
      ]
    },
    {
      "cell_type": "code",
      "execution_count": 31,
      "metadata": {
        "id": "Chor4swz5SiZ"
      },
      "outputs": [],
      "source": [
        "df_new[\"step02\"] = final_string_tokens"
      ]
    },
    {
      "cell_type": "code",
      "execution_count": 32,
      "metadata": {
        "id": "mQJIul5O5Sfs",
        "colab": {
          "base_uri": "https://localhost:8080/",
          "height": 354
        },
        "outputId": "955f0c7a-7679-4146-8088-ff5d60195ba6"
      },
      "outputs": [
        {
          "output_type": "execute_result",
          "data": {
            "text/plain": [
              "                                              Tweets  Analysis  \\\n",
              "0   @Almaylifi tercium bau asap knalpot motor racing         0   \n",
              "1  @hanajihyo iyaa, besok yang pake knalpot racin...         0   \n",
              "2  Motor bebek pake knalpot racing 75ribu, lewat ...        -1   \n",
              "3  @SeputarTetangga Ngebutnya sih gak kenceng tap...         1   \n",
              "4                   @18fesss Knalpot racing original         1   \n",
              "\n",
              "                                              step01  \\\n",
              "0         user tercium bau asap knalpot motor racing   \n",
              "1   user iyaa besok yang pake knalpot racing itu aku   \n",
              "2  motor bebek pake knalpot racing 7 5 ribu lewat...   \n",
              "3  user ngebutnya sih gak kenceng tapi kalau suar...   \n",
              "4                       user knalpot racing original   \n",
              "\n",
              "                                              tokens  \\\n",
              "0  [user, tercium, bau, asap, knalpot, motor, rac...   \n",
              "1  [user, iyaa, besok, yang, pake, knalpot, racin...   \n",
              "2  [motor, bebek, pake, knalpot, racing, 7, 5, ri...   \n",
              "3  [user, ngebutnya, sih, gak, kenceng, tapi, kal...   \n",
              "4                  [user, knalpot, racing, original]   \n",
              "\n",
              "                                    tokens_perbaikan  \\\n",
              "0  [user, tercium, bau, asap, knalpot, motor, rac...   \n",
              "1  [user, iyaa, besok, yang, pakai, knalpot, raci...   \n",
              "2  [motor, bebek, pakai, knalpot, racing, 7, 5, r...   \n",
              "3  [user, ngebutnya, sih, tidak, kenceng, tapi, k...   \n",
              "4                  [user, knalpot, racing, original]   \n",
              "\n",
              "                                        Stop_removal  \\\n",
              "0  [user, tercium, bau, asap, knalpot, motor, rac...   \n",
              "1        [user, iyaa, besok, pakai, knalpot, racing]   \n",
              "2  [motor, bebek, pakai, knalpot, racing, 7, 5, r...   \n",
              "3  [user, ngebutnya, sih, kenceng, suara, knalpot...   \n",
              "4                  [user, knalpot, racing, original]   \n",
              "\n",
              "                                              step02  \n",
              "0         user tercium bau asap knalpot motor racing  \n",
              "1               user iyaa besok pakai knalpot racing  \n",
              "2  motor bebek pakai knalpot racing 7 5 ribu gang...  \n",
              "3  user ngebutnya sih kenceng suara knalpot mobil...  \n",
              "4                       user knalpot racing original  "
            ],
            "text/html": [
              "\n",
              "  <div id=\"df-1b92a115-6047-48d0-afa7-db57c70a3066\">\n",
              "    <div class=\"colab-df-container\">\n",
              "      <div>\n",
              "<style scoped>\n",
              "    .dataframe tbody tr th:only-of-type {\n",
              "        vertical-align: middle;\n",
              "    }\n",
              "\n",
              "    .dataframe tbody tr th {\n",
              "        vertical-align: top;\n",
              "    }\n",
              "\n",
              "    .dataframe thead th {\n",
              "        text-align: right;\n",
              "    }\n",
              "</style>\n",
              "<table border=\"1\" class=\"dataframe\">\n",
              "  <thead>\n",
              "    <tr style=\"text-align: right;\">\n",
              "      <th></th>\n",
              "      <th>Tweets</th>\n",
              "      <th>Analysis</th>\n",
              "      <th>step01</th>\n",
              "      <th>tokens</th>\n",
              "      <th>tokens_perbaikan</th>\n",
              "      <th>Stop_removal</th>\n",
              "      <th>step02</th>\n",
              "    </tr>\n",
              "  </thead>\n",
              "  <tbody>\n",
              "    <tr>\n",
              "      <th>0</th>\n",
              "      <td>@Almaylifi tercium bau asap knalpot motor racing</td>\n",
              "      <td>0</td>\n",
              "      <td>user tercium bau asap knalpot motor racing</td>\n",
              "      <td>[user, tercium, bau, asap, knalpot, motor, rac...</td>\n",
              "      <td>[user, tercium, bau, asap, knalpot, motor, rac...</td>\n",
              "      <td>[user, tercium, bau, asap, knalpot, motor, rac...</td>\n",
              "      <td>user tercium bau asap knalpot motor racing</td>\n",
              "    </tr>\n",
              "    <tr>\n",
              "      <th>1</th>\n",
              "      <td>@hanajihyo iyaa, besok yang pake knalpot racin...</td>\n",
              "      <td>0</td>\n",
              "      <td>user iyaa besok yang pake knalpot racing itu aku</td>\n",
              "      <td>[user, iyaa, besok, yang, pake, knalpot, racin...</td>\n",
              "      <td>[user, iyaa, besok, yang, pakai, knalpot, raci...</td>\n",
              "      <td>[user, iyaa, besok, pakai, knalpot, racing]</td>\n",
              "      <td>user iyaa besok pakai knalpot racing</td>\n",
              "    </tr>\n",
              "    <tr>\n",
              "      <th>2</th>\n",
              "      <td>Motor bebek pake knalpot racing 75ribu, lewat ...</td>\n",
              "      <td>-1</td>\n",
              "      <td>motor bebek pake knalpot racing 7 5 ribu lewat...</td>\n",
              "      <td>[motor, bebek, pake, knalpot, racing, 7, 5, ri...</td>\n",
              "      <td>[motor, bebek, pakai, knalpot, racing, 7, 5, r...</td>\n",
              "      <td>[motor, bebek, pakai, knalpot, racing, 7, 5, r...</td>\n",
              "      <td>motor bebek pakai knalpot racing 7 5 ribu gang...</td>\n",
              "    </tr>\n",
              "    <tr>\n",
              "      <th>3</th>\n",
              "      <td>@SeputarTetangga Ngebutnya sih gak kenceng tap...</td>\n",
              "      <td>1</td>\n",
              "      <td>user ngebutnya sih gak kenceng tapi kalau suar...</td>\n",
              "      <td>[user, ngebutnya, sih, gak, kenceng, tapi, kal...</td>\n",
              "      <td>[user, ngebutnya, sih, tidak, kenceng, tapi, k...</td>\n",
              "      <td>[user, ngebutnya, sih, kenceng, suara, knalpot...</td>\n",
              "      <td>user ngebutnya sih kenceng suara knalpot mobil...</td>\n",
              "    </tr>\n",
              "    <tr>\n",
              "      <th>4</th>\n",
              "      <td>@18fesss Knalpot racing original</td>\n",
              "      <td>1</td>\n",
              "      <td>user knalpot racing original</td>\n",
              "      <td>[user, knalpot, racing, original]</td>\n",
              "      <td>[user, knalpot, racing, original]</td>\n",
              "      <td>[user, knalpot, racing, original]</td>\n",
              "      <td>user knalpot racing original</td>\n",
              "    </tr>\n",
              "  </tbody>\n",
              "</table>\n",
              "</div>\n",
              "      <button class=\"colab-df-convert\" onclick=\"convertToInteractive('df-1b92a115-6047-48d0-afa7-db57c70a3066')\"\n",
              "              title=\"Convert this dataframe to an interactive table.\"\n",
              "              style=\"display:none;\">\n",
              "        \n",
              "  <svg xmlns=\"http://www.w3.org/2000/svg\" height=\"24px\"viewBox=\"0 0 24 24\"\n",
              "       width=\"24px\">\n",
              "    <path d=\"M0 0h24v24H0V0z\" fill=\"none\"/>\n",
              "    <path d=\"M18.56 5.44l.94 2.06.94-2.06 2.06-.94-2.06-.94-.94-2.06-.94 2.06-2.06.94zm-11 1L8.5 8.5l.94-2.06 2.06-.94-2.06-.94L8.5 2.5l-.94 2.06-2.06.94zm10 10l.94 2.06.94-2.06 2.06-.94-2.06-.94-.94-2.06-.94 2.06-2.06.94z\"/><path d=\"M17.41 7.96l-1.37-1.37c-.4-.4-.92-.59-1.43-.59-.52 0-1.04.2-1.43.59L10.3 9.45l-7.72 7.72c-.78.78-.78 2.05 0 2.83L4 21.41c.39.39.9.59 1.41.59.51 0 1.02-.2 1.41-.59l7.78-7.78 2.81-2.81c.8-.78.8-2.07 0-2.86zM5.41 20L4 18.59l7.72-7.72 1.47 1.35L5.41 20z\"/>\n",
              "  </svg>\n",
              "      </button>\n",
              "      \n",
              "  <style>\n",
              "    .colab-df-container {\n",
              "      display:flex;\n",
              "      flex-wrap:wrap;\n",
              "      gap: 12px;\n",
              "    }\n",
              "\n",
              "    .colab-df-convert {\n",
              "      background-color: #E8F0FE;\n",
              "      border: none;\n",
              "      border-radius: 50%;\n",
              "      cursor: pointer;\n",
              "      display: none;\n",
              "      fill: #1967D2;\n",
              "      height: 32px;\n",
              "      padding: 0 0 0 0;\n",
              "      width: 32px;\n",
              "    }\n",
              "\n",
              "    .colab-df-convert:hover {\n",
              "      background-color: #E2EBFA;\n",
              "      box-shadow: 0px 1px 2px rgba(60, 64, 67, 0.3), 0px 1px 3px 1px rgba(60, 64, 67, 0.15);\n",
              "      fill: #174EA6;\n",
              "    }\n",
              "\n",
              "    [theme=dark] .colab-df-convert {\n",
              "      background-color: #3B4455;\n",
              "      fill: #D2E3FC;\n",
              "    }\n",
              "\n",
              "    [theme=dark] .colab-df-convert:hover {\n",
              "      background-color: #434B5C;\n",
              "      box-shadow: 0px 1px 3px 1px rgba(0, 0, 0, 0.15);\n",
              "      filter: drop-shadow(0px 1px 2px rgba(0, 0, 0, 0.3));\n",
              "      fill: #FFFFFF;\n",
              "    }\n",
              "  </style>\n",
              "\n",
              "      <script>\n",
              "        const buttonEl =\n",
              "          document.querySelector('#df-1b92a115-6047-48d0-afa7-db57c70a3066 button.colab-df-convert');\n",
              "        buttonEl.style.display =\n",
              "          google.colab.kernel.accessAllowed ? 'block' : 'none';\n",
              "\n",
              "        async function convertToInteractive(key) {\n",
              "          const element = document.querySelector('#df-1b92a115-6047-48d0-afa7-db57c70a3066');\n",
              "          const dataTable =\n",
              "            await google.colab.kernel.invokeFunction('convertToInteractive',\n",
              "                                                     [key], {});\n",
              "          if (!dataTable) return;\n",
              "\n",
              "          const docLinkHtml = 'Like what you see? Visit the ' +\n",
              "            '<a target=\"_blank\" href=https://colab.research.google.com/notebooks/data_table.ipynb>data table notebook</a>'\n",
              "            + ' to learn more about interactive tables.';\n",
              "          element.innerHTML = '';\n",
              "          dataTable['output_type'] = 'display_data';\n",
              "          await google.colab.output.renderOutput(dataTable, element);\n",
              "          const docLink = document.createElement('div');\n",
              "          docLink.innerHTML = docLinkHtml;\n",
              "          element.appendChild(docLink);\n",
              "        }\n",
              "      </script>\n",
              "    </div>\n",
              "  </div>\n",
              "  "
            ]
          },
          "metadata": {},
          "execution_count": 32
        }
      ],
      "source": [
        "df_new.head()"
      ]
    },
    {
      "cell_type": "code",
      "execution_count": 33,
      "metadata": {
        "id": "AztXSwKq5Sc0",
        "colab": {
          "base_uri": "https://localhost:8080/"
        },
        "outputId": "6060d936-682f-41fc-9049-2fbc995d3d8c"
      },
      "outputs": [
        {
          "output_type": "stream",
          "name": "stdout",
          "text": [
            "Looking in indexes: https://pypi.org/simple, https://us-python.pkg.dev/colab-wheels/public/simple/\n",
            "Collecting sastrawi\n",
            "  Downloading Sastrawi-1.0.1-py2.py3-none-any.whl (209 kB)\n",
            "\u001b[K     |████████████████████████████████| 209 kB 4.3 MB/s \n",
            "\u001b[?25hInstalling collected packages: sastrawi\n",
            "Successfully installed sastrawi-1.0.1\n"
          ]
        }
      ],
      "source": [
        "!pip install sastrawi"
      ]
    },
    {
      "cell_type": "code",
      "execution_count": 34,
      "metadata": {
        "id": "tkVbcU-c5SaL"
      },
      "outputs": [],
      "source": [
        "from Sastrawi.Stemmer.StemmerFactory import StemmerFactory\n",
        "factory = StemmerFactory()\n",
        "stemmer = factory.create_stemmer()"
      ]
    },
    {
      "cell_type": "code",
      "execution_count": 35,
      "metadata": {
        "id": "3QDHPVV25SXQ"
      },
      "outputs": [],
      "source": [
        "final_string = []\n",
        "s = \"\"\n",
        "for sentence in df_new[\"step02\"].values:\n",
        "    filteredSentence = []\n",
        "    EachReviewText = \"\"\n",
        "    s = (stemmer.stem(sentence))\n",
        "    filteredSentence.append(s)\n",
        "    \n",
        "    EachReviewText = ' '.join(filteredSentence)\n",
        "    final_string.append(EachReviewText)"
      ]
    },
    {
      "cell_type": "code",
      "execution_count": 36,
      "metadata": {
        "id": "HRagOv355SUY"
      },
      "outputs": [],
      "source": [
        "df_new[\"ProcessedText\"] = final_string"
      ]
    },
    {
      "cell_type": "code",
      "execution_count": 37,
      "metadata": {
        "id": "jlPv1hC85SRp",
        "colab": {
          "base_uri": "https://localhost:8080/",
          "height": 407
        },
        "outputId": "6c6f9ef4-5c91-4ac3-de9c-715266023538"
      },
      "outputs": [
        {
          "output_type": "execute_result",
          "data": {
            "text/plain": [
              "                                              Tweets  Analysis  \\\n",
              "0   @Almaylifi tercium bau asap knalpot motor racing         0   \n",
              "1  @hanajihyo iyaa, besok yang pake knalpot racin...         0   \n",
              "2  Motor bebek pake knalpot racing 75ribu, lewat ...        -1   \n",
              "3  @SeputarTetangga Ngebutnya sih gak kenceng tap...         1   \n",
              "4                   @18fesss Knalpot racing original         1   \n",
              "\n",
              "                                              step01  \\\n",
              "0         user tercium bau asap knalpot motor racing   \n",
              "1   user iyaa besok yang pake knalpot racing itu aku   \n",
              "2  motor bebek pake knalpot racing 7 5 ribu lewat...   \n",
              "3  user ngebutnya sih gak kenceng tapi kalau suar...   \n",
              "4                       user knalpot racing original   \n",
              "\n",
              "                                              tokens  \\\n",
              "0  [user, tercium, bau, asap, knalpot, motor, rac...   \n",
              "1  [user, iyaa, besok, yang, pake, knalpot, racin...   \n",
              "2  [motor, bebek, pake, knalpot, racing, 7, 5, ri...   \n",
              "3  [user, ngebutnya, sih, gak, kenceng, tapi, kal...   \n",
              "4                  [user, knalpot, racing, original]   \n",
              "\n",
              "                                    tokens_perbaikan  \\\n",
              "0  [user, tercium, bau, asap, knalpot, motor, rac...   \n",
              "1  [user, iyaa, besok, yang, pakai, knalpot, raci...   \n",
              "2  [motor, bebek, pakai, knalpot, racing, 7, 5, r...   \n",
              "3  [user, ngebutnya, sih, tidak, kenceng, tapi, k...   \n",
              "4                  [user, knalpot, racing, original]   \n",
              "\n",
              "                                        Stop_removal  \\\n",
              "0  [user, tercium, bau, asap, knalpot, motor, rac...   \n",
              "1        [user, iyaa, besok, pakai, knalpot, racing]   \n",
              "2  [motor, bebek, pakai, knalpot, racing, 7, 5, r...   \n",
              "3  [user, ngebutnya, sih, kenceng, suara, knalpot...   \n",
              "4                  [user, knalpot, racing, original]   \n",
              "\n",
              "                                              step02  \\\n",
              "0         user tercium bau asap knalpot motor racing   \n",
              "1               user iyaa besok pakai knalpot racing   \n",
              "2  motor bebek pakai knalpot racing 7 5 ribu gang...   \n",
              "3  user ngebutnya sih kenceng suara knalpot mobil...   \n",
              "4                       user knalpot racing original   \n",
              "\n",
              "                                       ProcessedText  \n",
              "0            user cium bau asap knalpot motor racing  \n",
              "1               user iyaa besok pakai knalpot racing  \n",
              "2  motor bebek pakai knalpot racing 7 5 ribu gang...  \n",
              "3  user ngebut sih kenceng suara knalpot mobil ra...  \n",
              "4                       user knalpot racing original  "
            ],
            "text/html": [
              "\n",
              "  <div id=\"df-3afd609e-a969-4cce-8258-1773b3142971\">\n",
              "    <div class=\"colab-df-container\">\n",
              "      <div>\n",
              "<style scoped>\n",
              "    .dataframe tbody tr th:only-of-type {\n",
              "        vertical-align: middle;\n",
              "    }\n",
              "\n",
              "    .dataframe tbody tr th {\n",
              "        vertical-align: top;\n",
              "    }\n",
              "\n",
              "    .dataframe thead th {\n",
              "        text-align: right;\n",
              "    }\n",
              "</style>\n",
              "<table border=\"1\" class=\"dataframe\">\n",
              "  <thead>\n",
              "    <tr style=\"text-align: right;\">\n",
              "      <th></th>\n",
              "      <th>Tweets</th>\n",
              "      <th>Analysis</th>\n",
              "      <th>step01</th>\n",
              "      <th>tokens</th>\n",
              "      <th>tokens_perbaikan</th>\n",
              "      <th>Stop_removal</th>\n",
              "      <th>step02</th>\n",
              "      <th>ProcessedText</th>\n",
              "    </tr>\n",
              "  </thead>\n",
              "  <tbody>\n",
              "    <tr>\n",
              "      <th>0</th>\n",
              "      <td>@Almaylifi tercium bau asap knalpot motor racing</td>\n",
              "      <td>0</td>\n",
              "      <td>user tercium bau asap knalpot motor racing</td>\n",
              "      <td>[user, tercium, bau, asap, knalpot, motor, rac...</td>\n",
              "      <td>[user, tercium, bau, asap, knalpot, motor, rac...</td>\n",
              "      <td>[user, tercium, bau, asap, knalpot, motor, rac...</td>\n",
              "      <td>user tercium bau asap knalpot motor racing</td>\n",
              "      <td>user cium bau asap knalpot motor racing</td>\n",
              "    </tr>\n",
              "    <tr>\n",
              "      <th>1</th>\n",
              "      <td>@hanajihyo iyaa, besok yang pake knalpot racin...</td>\n",
              "      <td>0</td>\n",
              "      <td>user iyaa besok yang pake knalpot racing itu aku</td>\n",
              "      <td>[user, iyaa, besok, yang, pake, knalpot, racin...</td>\n",
              "      <td>[user, iyaa, besok, yang, pakai, knalpot, raci...</td>\n",
              "      <td>[user, iyaa, besok, pakai, knalpot, racing]</td>\n",
              "      <td>user iyaa besok pakai knalpot racing</td>\n",
              "      <td>user iyaa besok pakai knalpot racing</td>\n",
              "    </tr>\n",
              "    <tr>\n",
              "      <th>2</th>\n",
              "      <td>Motor bebek pake knalpot racing 75ribu, lewat ...</td>\n",
              "      <td>-1</td>\n",
              "      <td>motor bebek pake knalpot racing 7 5 ribu lewat...</td>\n",
              "      <td>[motor, bebek, pake, knalpot, racing, 7, 5, ri...</td>\n",
              "      <td>[motor, bebek, pakai, knalpot, racing, 7, 5, r...</td>\n",
              "      <td>[motor, bebek, pakai, knalpot, racing, 7, 5, r...</td>\n",
              "      <td>motor bebek pakai knalpot racing 7 5 ribu gang...</td>\n",
              "      <td>motor bebek pakai knalpot racing 7 5 ribu gang...</td>\n",
              "    </tr>\n",
              "    <tr>\n",
              "      <th>3</th>\n",
              "      <td>@SeputarTetangga Ngebutnya sih gak kenceng tap...</td>\n",
              "      <td>1</td>\n",
              "      <td>user ngebutnya sih gak kenceng tapi kalau suar...</td>\n",
              "      <td>[user, ngebutnya, sih, gak, kenceng, tapi, kal...</td>\n",
              "      <td>[user, ngebutnya, sih, tidak, kenceng, tapi, k...</td>\n",
              "      <td>[user, ngebutnya, sih, kenceng, suara, knalpot...</td>\n",
              "      <td>user ngebutnya sih kenceng suara knalpot mobil...</td>\n",
              "      <td>user ngebut sih kenceng suara knalpot mobil ra...</td>\n",
              "    </tr>\n",
              "    <tr>\n",
              "      <th>4</th>\n",
              "      <td>@18fesss Knalpot racing original</td>\n",
              "      <td>1</td>\n",
              "      <td>user knalpot racing original</td>\n",
              "      <td>[user, knalpot, racing, original]</td>\n",
              "      <td>[user, knalpot, racing, original]</td>\n",
              "      <td>[user, knalpot, racing, original]</td>\n",
              "      <td>user knalpot racing original</td>\n",
              "      <td>user knalpot racing original</td>\n",
              "    </tr>\n",
              "  </tbody>\n",
              "</table>\n",
              "</div>\n",
              "      <button class=\"colab-df-convert\" onclick=\"convertToInteractive('df-3afd609e-a969-4cce-8258-1773b3142971')\"\n",
              "              title=\"Convert this dataframe to an interactive table.\"\n",
              "              style=\"display:none;\">\n",
              "        \n",
              "  <svg xmlns=\"http://www.w3.org/2000/svg\" height=\"24px\"viewBox=\"0 0 24 24\"\n",
              "       width=\"24px\">\n",
              "    <path d=\"M0 0h24v24H0V0z\" fill=\"none\"/>\n",
              "    <path d=\"M18.56 5.44l.94 2.06.94-2.06 2.06-.94-2.06-.94-.94-2.06-.94 2.06-2.06.94zm-11 1L8.5 8.5l.94-2.06 2.06-.94-2.06-.94L8.5 2.5l-.94 2.06-2.06.94zm10 10l.94 2.06.94-2.06 2.06-.94-2.06-.94-.94-2.06-.94 2.06-2.06.94z\"/><path d=\"M17.41 7.96l-1.37-1.37c-.4-.4-.92-.59-1.43-.59-.52 0-1.04.2-1.43.59L10.3 9.45l-7.72 7.72c-.78.78-.78 2.05 0 2.83L4 21.41c.39.39.9.59 1.41.59.51 0 1.02-.2 1.41-.59l7.78-7.78 2.81-2.81c.8-.78.8-2.07 0-2.86zM5.41 20L4 18.59l7.72-7.72 1.47 1.35L5.41 20z\"/>\n",
              "  </svg>\n",
              "      </button>\n",
              "      \n",
              "  <style>\n",
              "    .colab-df-container {\n",
              "      display:flex;\n",
              "      flex-wrap:wrap;\n",
              "      gap: 12px;\n",
              "    }\n",
              "\n",
              "    .colab-df-convert {\n",
              "      background-color: #E8F0FE;\n",
              "      border: none;\n",
              "      border-radius: 50%;\n",
              "      cursor: pointer;\n",
              "      display: none;\n",
              "      fill: #1967D2;\n",
              "      height: 32px;\n",
              "      padding: 0 0 0 0;\n",
              "      width: 32px;\n",
              "    }\n",
              "\n",
              "    .colab-df-convert:hover {\n",
              "      background-color: #E2EBFA;\n",
              "      box-shadow: 0px 1px 2px rgba(60, 64, 67, 0.3), 0px 1px 3px 1px rgba(60, 64, 67, 0.15);\n",
              "      fill: #174EA6;\n",
              "    }\n",
              "\n",
              "    [theme=dark] .colab-df-convert {\n",
              "      background-color: #3B4455;\n",
              "      fill: #D2E3FC;\n",
              "    }\n",
              "\n",
              "    [theme=dark] .colab-df-convert:hover {\n",
              "      background-color: #434B5C;\n",
              "      box-shadow: 0px 1px 3px 1px rgba(0, 0, 0, 0.15);\n",
              "      filter: drop-shadow(0px 1px 2px rgba(0, 0, 0, 0.3));\n",
              "      fill: #FFFFFF;\n",
              "    }\n",
              "  </style>\n",
              "\n",
              "      <script>\n",
              "        const buttonEl =\n",
              "          document.querySelector('#df-3afd609e-a969-4cce-8258-1773b3142971 button.colab-df-convert');\n",
              "        buttonEl.style.display =\n",
              "          google.colab.kernel.accessAllowed ? 'block' : 'none';\n",
              "\n",
              "        async function convertToInteractive(key) {\n",
              "          const element = document.querySelector('#df-3afd609e-a969-4cce-8258-1773b3142971');\n",
              "          const dataTable =\n",
              "            await google.colab.kernel.invokeFunction('convertToInteractive',\n",
              "                                                     [key], {});\n",
              "          if (!dataTable) return;\n",
              "\n",
              "          const docLinkHtml = 'Like what you see? Visit the ' +\n",
              "            '<a target=\"_blank\" href=https://colab.research.google.com/notebooks/data_table.ipynb>data table notebook</a>'\n",
              "            + ' to learn more about interactive tables.';\n",
              "          element.innerHTML = '';\n",
              "          dataTable['output_type'] = 'display_data';\n",
              "          await google.colab.output.renderOutput(dataTable, element);\n",
              "          const docLink = document.createElement('div');\n",
              "          docLink.innerHTML = docLinkHtml;\n",
              "          element.appendChild(docLink);\n",
              "        }\n",
              "      </script>\n",
              "    </div>\n",
              "  </div>\n",
              "  "
            ]
          },
          "metadata": {},
          "execution_count": 37
        }
      ],
      "source": [
        "df_new.head(5)"
      ]
    },
    {
      "cell_type": "code",
      "execution_count": 38,
      "metadata": {
        "id": "wZ3deaD25SO2"
      },
      "outputs": [],
      "source": [
        "df_new.to_csv('/content/drive/My Drive/Colab Notebooks/AMS2022/clean_dataset.csv', sep=\";\")"
      ]
    },
    {
      "cell_type": "code",
      "source": [
        "import pandas as pd\n",
        "import numpy as np"
      ],
      "metadata": {
        "id": "OnJL_jQmDXLM"
      },
      "execution_count": 39,
      "outputs": []
    },
    {
      "cell_type": "code",
      "source": [
        "dataset = pd.read_csv('/content/drive/My Drive/Colab Notebooks/AMS2022/clean_dataset.csv', sep=\";\")"
      ],
      "metadata": {
        "id": "E-nnYeb3DXIK"
      },
      "execution_count": 40,
      "outputs": []
    },
    {
      "cell_type": "code",
      "source": [
        "dataset.info()"
      ],
      "metadata": {
        "colab": {
          "base_uri": "https://localhost:8080/"
        },
        "id": "NTTeeKJBDXFK",
        "outputId": "f731851d-6dca-4143-9224-e164e200f988"
      },
      "execution_count": 41,
      "outputs": [
        {
          "output_type": "stream",
          "name": "stdout",
          "text": [
            "<class 'pandas.core.frame.DataFrame'>\n",
            "RangeIndex: 100 entries, 0 to 99\n",
            "Data columns (total 9 columns):\n",
            " #   Column            Non-Null Count  Dtype \n",
            "---  ------            --------------  ----- \n",
            " 0   Unnamed: 0        100 non-null    int64 \n",
            " 1   Tweets            100 non-null    object\n",
            " 2   Analysis          100 non-null    int64 \n",
            " 3   step01            100 non-null    object\n",
            " 4   tokens            100 non-null    object\n",
            " 5   tokens_perbaikan  100 non-null    object\n",
            " 6   Stop_removal      100 non-null    object\n",
            " 7   step02            100 non-null    object\n",
            " 8   ProcessedText     100 non-null    object\n",
            "dtypes: int64(2), object(7)\n",
            "memory usage: 7.2+ KB\n"
          ]
        }
      ]
    },
    {
      "cell_type": "code",
      "source": [
        "dataset_feature = dataset['ProcessedText'].astype(str)"
      ],
      "metadata": {
        "id": "ajKgQ0cwDXCb"
      },
      "execution_count": 42,
      "outputs": []
    },
    {
      "cell_type": "code",
      "source": [
        "dataset_feature.head(10)"
      ],
      "metadata": {
        "colab": {
          "base_uri": "https://localhost:8080/"
        },
        "id": "B2lrQISjDXAV",
        "outputId": "56baf654-9761-432f-ecba-904ecf412b7c"
      },
      "execution_count": 43,
      "outputs": [
        {
          "output_type": "execute_result",
          "data": {
            "text/plain": [
              "0              user cium bau asap knalpot motor racing\n",
              "1                 user iyaa besok pakai knalpot racing\n",
              "2    motor bebek pakai knalpot racing 7 5 ribu gang...\n",
              "3    user ngebut sih kenceng suara knalpot mobil ra...\n",
              "4                         user knalpot racing original\n",
              "5    allcaps njing jamet banget lo allcaps allcaps ...\n",
              "6    kain pekajaman ready bosque elongated fiz galv...\n",
              "7    kaya oven surabaya panas ujan tar suara ngalah...\n",
              "8    ie bengkel belah loba motor sonic pakai knalpo...\n",
              "9    hujan tambah lagu sedih dukung unggah hapus un...\n",
              "Name: ProcessedText, dtype: object"
            ]
          },
          "metadata": {},
          "execution_count": 43
        }
      ]
    },
    {
      "cell_type": "code",
      "source": [
        "dataset_label = dataset['Analysis']"
      ],
      "metadata": {
        "id": "C7B47XZhDW9C"
      },
      "execution_count": 44,
      "outputs": []
    },
    {
      "cell_type": "code",
      "source": [
        "dataset_label.head(10)"
      ],
      "metadata": {
        "colab": {
          "base_uri": "https://localhost:8080/"
        },
        "id": "BskLWI7EDW6i",
        "outputId": "b721df37-6cb5-4d13-fd79-4159c67a4eb5"
      },
      "execution_count": 45,
      "outputs": [
        {
          "output_type": "execute_result",
          "data": {
            "text/plain": [
              "0    0\n",
              "1    0\n",
              "2   -1\n",
              "3    1\n",
              "4    1\n",
              "5    1\n",
              "6    0\n",
              "7    1\n",
              "8    0\n",
              "9    1\n",
              "Name: Analysis, dtype: int64"
            ]
          },
          "metadata": {},
          "execution_count": 45
        }
      ]
    },
    {
      "cell_type": "code",
      "source": [
        "import matplotlib.pyplot as plt\n",
        "import seaborn as sns\n",
        "%matplotlib inline"
      ],
      "metadata": {
        "id": "L5n8FLAIDW3r"
      },
      "execution_count": 46,
      "outputs": []
    },
    {
      "cell_type": "code",
      "source": [
        "# Visualizing the target variable\n",
        "plt.figure(figsize=(12,8))\n",
        "sns.distplot(dataset_label, label=f'target, skew: {dataset_label.skew():.2f}')\n",
        "plt.legend(loc='best')\n",
        "plt.show()"
      ],
      "metadata": {
        "colab": {
          "base_uri": "https://localhost:8080/",
          "height": 554
        },
        "id": "QPmW3AD7DW0o",
        "outputId": "e7d63c7b-2250-4580-ca6d-15213150c673"
      },
      "execution_count": 47,
      "outputs": [
        {
          "output_type": "stream",
          "name": "stderr",
          "text": [
            "/usr/local/lib/python3.7/dist-packages/seaborn/distributions.py:2619: FutureWarning: `distplot` is a deprecated function and will be removed in a future version. Please adapt your code to use either `displot` (a figure-level function with similar flexibility) or `histplot` (an axes-level function for histograms).\n",
            "  warnings.warn(msg, FutureWarning)\n"
          ]
        },
        {
          "output_type": "display_data",
          "data": {
            "text/plain": [
              "<Figure size 864x576 with 1 Axes>"
            ],
            "image/png": "[encoded data removed]"
          },
          "metadata": {
            "needs_background": "light"
          }
        }
      ]
    },
    {
      "cell_type": "code",
      "source": [
        "dataset_label.value_counts()"
      ],
      "metadata": {
        "colab": {
          "base_uri": "https://localhost:8080/"
        },
        "id": "mcxvV_5GDWx0",
        "outputId": "f9938262-2eb1-4af0-dff4-5a519e389116"
      },
      "execution_count": 48,
      "outputs": [
        {
          "output_type": "execute_result",
          "data": {
            "text/plain": [
              " 0    42\n",
              "-1    29\n",
              " 1    29\n",
              "Name: Analysis, dtype: int64"
            ]
          },
          "metadata": {},
          "execution_count": 48
        }
      ]
    },
    {
      "cell_type": "code",
      "source": [
        "from sklearn.model_selection import GridSearchCV\n",
        "from sklearn.metrics import accuracy_score\n",
        "from sklearn.metrics import recall_score\n",
        "from sklearn.metrics import f1_score\n",
        "from sklearn.metrics import precision_score\n",
        "from sklearn.model_selection import train_test_split"
      ],
      "metadata": {
        "id": "GSyG0cz6DWuw"
      },
      "execution_count": 49,
      "outputs": []
    },
    {
      "cell_type": "code",
      "source": [
        "train_x, test_x, train_label, test_label = train_test_split(dataset_feature, dataset_label, test_size = 0.2, random_state=42)"
      ],
      "metadata": {
        "id": "78KZB75oDWsK"
      },
      "execution_count": 50,
      "outputs": []
    },
    {
      "cell_type": "code",
      "source": [
        "test_x"
      ],
      "metadata": {
        "colab": {
          "base_uri": "https://localhost:8080/"
        },
        "id": "e00xBZmUDWpk",
        "outputId": "10c6e258-02ef-441a-d001-e7073a54a54a"
      },
      "execution_count": 51,
      "outputs": [
        {
          "output_type": "execute_result",
          "data": {
            "text/plain": [
              "83    jual knalpot racing fulls repeated harga rp955...\n",
              "53    norak mas mas knalpot racing tuan nyonya mobil...\n",
              "70          rt user user matic make knalpot racing aneh\n",
              "45    allcaps stop knalpot racing allcaps user user ...\n",
              "44    saran knalpot racing bagus merk sih bingung co...\n",
              "39    update chatan caca number caca putus pacar kay...\n",
              "22    modif velg tingkat racing number number inch p...\n",
              "80    bayang pecah jalan kena muka kendara alas anji...\n",
              "10                            user gara2 knalpot racing\n",
              "0               user cium bau asap knalpot motor racing\n",
              "18    allcaps stop knalpot racing allcaps hashtag st...\n",
              "30    orang tidur ngorok na dengar ngorok kayak knal...\n",
              "73    user user user user cb video knalpot pakai ori...\n",
              "33    rt user keren motor pakai knalpot racing norak...\n",
              "90                        user kayak knalpot racing sih\n",
              "4                          user knalpot racing original\n",
              "76                            kerja baik knalpot racing\n",
              "77    motor bebek pakai knalpot racing 7 5 ribu gang...\n",
              "12    user mimpi rantai motor cocok motor nya starte...\n",
              "31    jual knalpot racing seped repeated harga rp225...\n",
              "Name: ProcessedText, dtype: object"
            ]
          },
          "metadata": {},
          "execution_count": 51
        }
      ]
    },
    {
      "cell_type": "code",
      "source": [
        "from sklearn.feature_extraction.text import TfidfVectorizer\n",
        "Tfidf_Vectorizer = TfidfVectorizer() "
      ],
      "metadata": {
        "id": "mLGXg4HLDWmi"
      },
      "execution_count": 53,
      "outputs": []
    },
    {
      "cell_type": "code",
      "source": [
        "from sklearn.naive_bayes import MultinomialNB"
      ],
      "metadata": {
        "id": "c9iuLh2LDWkF"
      },
      "execution_count": 54,
      "outputs": []
    },
    {
      "cell_type": "code",
      "source": [
        "from sklearn.pipeline import Pipeline\n",
        "classifier_nb = Pipeline([\n",
        "    ('tfidf', TfidfVectorizer()),\n",
        "    ('model', MultinomialNB()),\n",
        "])"
      ],
      "metadata": {
        "id": "9Z_j12u4DWhh"
      },
      "execution_count": 55,
      "outputs": []
    },
    {
      "cell_type": "code",
      "source": [
        "parameters_nb = {\n",
        "    'tfidf__ngram_range': [(1, 1), (1, 2), (1, 3), (1, 4)],\n",
        "    'model__alpha': (0.0001, 0.001, 0.1, 1, 10, 100)\n",
        "}"
      ],
      "metadata": {
        "id": "ldd0etm9DWes"
      },
      "execution_count": 56,
      "outputs": []
    },
    {
      "cell_type": "code",
      "source": [
        "classifier_nb = GridSearchCV(classifier_nb, parameters_nb, cv = 3, n_jobs=-1)"
      ],
      "metadata": {
        "id": "TfGaEJeaDWbc"
      },
      "execution_count": 57,
      "outputs": []
    },
    {
      "cell_type": "code",
      "source": [
        "classifier_nb.fit(train_x, train_label.ravel())"
      ],
      "metadata": {
        "colab": {
          "base_uri": "https://localhost:8080/"
        },
        "id": "Ew9xJKoMIfaE",
        "outputId": "665450df-f4f3-4827-9949-3f92054b515f"
      },
      "execution_count": 58,
      "outputs": [
        {
          "output_type": "execute_result",
          "data": {
            "text/plain": [
              "GridSearchCV(cv=3,\n",
              "             estimator=Pipeline(steps=[('tfidf', TfidfVectorizer()),\n",
              "                                       ('model', MultinomialNB())]),\n",
              "             n_jobs=-1,\n",
              "             param_grid={'model__alpha': (0.0001, 0.001, 0.1, 1, 10, 100),\n",
              "                         'tfidf__ngram_range': [(1, 1), (1, 2), (1, 3),\n",
              "                                                (1, 4)]})"
            ]
          },
          "metadata": {},
          "execution_count": 58
        }
      ]
    },
    {
      "cell_type": "code",
      "source": [
        "y_pred_nb_train = classifier_nb.predict(train_x)\n",
        "accuracy_nb_train = accuracy_score(train_label, y_pred_nb_train)\n",
        "print(\"Accuracy Training set: \", accuracy_nb_train)\n",
        "\n",
        "y_pred_nb_test = classifier_nb.predict(test_x)\n",
        "accuracy_nb_test = accuracy_score(test_label, y_pred_nb_test)\n",
        "print(\"Accuracy Test set: \", accuracy_nb_test)"
      ],
      "metadata": {
        "colab": {
          "base_uri": "https://localhost:8080/"
        },
        "id": "0L-aZ5vtIfYt",
        "outputId": "f1ab8c12-e006-4922-e558-f5c571c1a59a"
      },
      "execution_count": 59,
      "outputs": [
        {
          "output_type": "stream",
          "name": "stdout",
          "text": [
            "Accuracy Training set:  0.9875\n",
            "Accuracy Test set:  0.7\n"
          ]
        }
      ]
    },
    {
      "cell_type": "code",
      "source": [
        "recall_nb_train = recall_score(train_label, y_pred_nb_train, average='weighted')\n",
        "print(\"Recall Training set: \", recall_nb_train)\n",
        "\n",
        "recall_nb_test = recall_score(test_label, y_pred_nb_test, average='weighted')\n",
        "print(\"Recall Test set: \", recall_nb_test)"
      ],
      "metadata": {
        "colab": {
          "base_uri": "https://localhost:8080/"
        },
        "id": "mKiHxu2bIfWT",
        "outputId": "633b4939-9244-44a0-bf28-14a00ef5ce63"
      },
      "execution_count": 60,
      "outputs": [
        {
          "output_type": "stream",
          "name": "stdout",
          "text": [
            "Recall Training set:  0.9875\n",
            "Recall Test set:  0.7\n"
          ]
        }
      ]
    },
    {
      "cell_type": "code",
      "source": [
        "precision_nb_train = precision_score(train_label, y_pred_nb_train, average='weighted')\n",
        "print(\"Precision Training set: \", precision_nb_train)\n",
        "\n",
        "precision_nb_test = precision_score(test_label, y_pred_nb_test, average='weighted')\n",
        "print(\"Precision Test set: \", precision_nb_test)"
      ],
      "metadata": {
        "colab": {
          "base_uri": "https://localhost:8080/"
        },
        "id": "c6XGxux7IfRY",
        "outputId": "6f6e66b3-5561-4b68-f538-ef60ac9bc615"
      },
      "execution_count": 61,
      "outputs": [
        {
          "output_type": "stream",
          "name": "stdout",
          "text": [
            "Precision Training set:  0.9878472222222221\n",
            "Precision Test set:  0.7227272727272727\n"
          ]
        }
      ]
    },
    {
      "cell_type": "code",
      "source": [
        "f1_nb_train = f1_score(train_label, y_pred_nb_train, average='weighted')\n",
        "print(\"F1 Training set: \", f1_nb_train)\n",
        "\n",
        "f1_nb_test = f1_score(test_label, y_pred_nb_test, average='weighted')\n",
        "print(\"F1 Test set: \", f1_nb_test)"
      ],
      "metadata": {
        "colab": {
          "base_uri": "https://localhost:8080/"
        },
        "id": "Xc4y4xSyIfOD",
        "outputId": "16e8d7e8-ec25-4a71-ab23-8acfceb2f303"
      },
      "execution_count": 62,
      "outputs": [
        {
          "output_type": "stream",
          "name": "stdout",
          "text": [
            "F1 Training set:  0.9874355891446237\n",
            "F1 Test set:  0.682936507936508\n"
          ]
        }
      ]
    },
    {
      "cell_type": "code",
      "source": [
        "from sklearn.metrics import confusion_matrix\n",
        "sns.heatmap(confusion_matrix(test_label, y_pred_nb_test), annot=True, cmap = 'viridis', fmt='.0f')\n",
        "plt.xlabel(\"Predicted values\", fontdict = {'size':14}, labelpad = 10)\n",
        "plt.ylabel(\"Actual values\"   , fontdict = {'size':14}, labelpad = 10)\n",
        "plt.title (\"Confusion Matrix\", fontdict = {'size':18}, pad = 20)\n",
        "plt.show()"
      ],
      "metadata": {
        "colab": {
          "base_uri": "https://localhost:8080/",
          "height": 323
        },
        "id": "nZPzKg8qNvul",
        "outputId": "3c47140a-7a55-4f50-e824-f02addcc1d3e"
      },
      "execution_count": 63,
      "outputs": [
        {
          "output_type": "display_data",
          "data": {
            "text/plain": [
              "<Figure size 432x288 with 2 Axes>"
            ],
            "image/png": "[encoded data removed]"
          },
          "metadata": {
            "needs_background": "light"
          }
        }
      ]
    },
    {
      "cell_type": "code",
      "source": [
        "classifier_nb.best_estimator_"
      ],
      "metadata": {
        "colab": {
          "base_uri": "https://localhost:8080/"
        },
        "id": "0u1F-XGSNzaJ",
        "outputId": "324f340a-9873-46d1-8fd2-f15ba21215ba"
      },
      "execution_count": 64,
      "outputs": [
        {
          "output_type": "execute_result",
          "data": {
            "text/plain": [
              "Pipeline(steps=[('tfidf', TfidfVectorizer()),\n",
              "                ('model', MultinomialNB(alpha=0.1))])"
            ]
          },
          "metadata": {},
          "execution_count": 64
        }
      ]
    },
    {
      "cell_type": "code",
      "source": [
        "for param_name in sorted(parameters_nb.keys()):\n",
        "    print(\"%s: %r\" % (param_name, classifier_nb.best_params_[param_name]))"
      ],
      "metadata": {
        "colab": {
          "base_uri": "https://localhost:8080/"
        },
        "id": "baLY-zfEN2DF",
        "outputId": "8c70525c-761f-45f2-ce3d-edd6a73059b3"
      },
      "execution_count": 65,
      "outputs": [
        {
          "output_type": "stream",
          "name": "stdout",
          "text": [
            "model__alpha: 0.1\n",
            "tfidf__ngram_range: (1, 1)\n"
          ]
        }
      ]
    },
    {
      "cell_type": "code",
      "source": [
        "models = [        \n",
        "          ('Naive Bayes Multinomial', accuracy_nb_train, accuracy_nb_test),\n",
        "         ]"
      ],
      "metadata": {
        "id": "HWczSKADN5fu"
      },
      "execution_count": 66,
      "outputs": []
    },
    {
      "cell_type": "code",
      "source": [
        "predict = pd.DataFrame(data = models, columns=['Model', 'Training Accuracy', 'Test Accuracy'])\n",
        "predict"
      ],
      "metadata": {
        "colab": {
          "base_uri": "https://localhost:8080/",
          "height": 81
        },
        "id": "u4LdzdM-N_mY",
        "outputId": "697a5123-8646-4fb4-a73b-8ec217ff9c55"
      },
      "execution_count": 67,
      "outputs": [
        {
          "output_type": "execute_result",
          "data": {
            "text/plain": [
              "                     Model  Training Accuracy  Test Accuracy\n",
              "0  Naive Bayes Multinomial             0.9875            0.7"
            ],
            "text/html": [
              "\n",
              "  <div id=\"df-60c1a407-9670-4951-b9c0-ea4786b3b721\">\n",
              "    <div class=\"colab-df-container\">\n",
              "      <div>\n",
              "<style scoped>\n",
              "    .dataframe tbody tr th:only-of-type {\n",
              "        vertical-align: middle;\n",
              "    }\n",
              "\n",
              "    .dataframe tbody tr th {\n",
              "        vertical-align: top;\n",
              "    }\n",
              "\n",
              "    .dataframe thead th {\n",
              "        text-align: right;\n",
              "    }\n",
              "</style>\n",
              "<table border=\"1\" class=\"dataframe\">\n",
              "  <thead>\n",
              "    <tr style=\"text-align: right;\">\n",
              "      <th></th>\n",
              "      <th>Model</th>\n",
              "      <th>Training Accuracy</th>\n",
              "      <th>Test Accuracy</th>\n",
              "    </tr>\n",
              "  </thead>\n",
              "  <tbody>\n",
              "    <tr>\n",
              "      <th>0</th>\n",
              "      <td>Naive Bayes Multinomial</td>\n",
              "      <td>0.9875</td>\n",
              "      <td>0.7</td>\n",
              "    </tr>\n",
              "  </tbody>\n",
              "</table>\n",
              "</div>\n",
              "      <button class=\"colab-df-convert\" onclick=\"convertToInteractive('df-60c1a407-9670-4951-b9c0-ea4786b3b721')\"\n",
              "              title=\"Convert this dataframe to an interactive table.\"\n",
              "              style=\"display:none;\">\n",
              "        \n",
              "  <svg xmlns=\"http://www.w3.org/2000/svg\" height=\"24px\"viewBox=\"0 0 24 24\"\n",
              "       width=\"24px\">\n",
              "    <path d=\"M0 0h24v24H0V0z\" fill=\"none\"/>\n",
              "    <path d=\"M18.56 5.44l.94 2.06.94-2.06 2.06-.94-2.06-.94-.94-2.06-.94 2.06-2.06.94zm-11 1L8.5 8.5l.94-2.06 2.06-.94-2.06-.94L8.5 2.5l-.94 2.06-2.06.94zm10 10l.94 2.06.94-2.06 2.06-.94-2.06-.94-.94-2.06-.94 2.06-2.06.94z\"/><path d=\"M17.41 7.96l-1.37-1.37c-.4-.4-.92-.59-1.43-.59-.52 0-1.04.2-1.43.59L10.3 9.45l-7.72 7.72c-.78.78-.78 2.05 0 2.83L4 21.41c.39.39.9.59 1.41.59.51 0 1.02-.2 1.41-.59l7.78-7.78 2.81-2.81c.8-.78.8-2.07 0-2.86zM5.41 20L4 18.59l7.72-7.72 1.47 1.35L5.41 20z\"/>\n",
              "  </svg>\n",
              "      </button>\n",
              "      \n",
              "  <style>\n",
              "    .colab-df-container {\n",
              "      display:flex;\n",
              "      flex-wrap:wrap;\n",
              "      gap: 12px;\n",
              "    }\n",
              "\n",
              "    .colab-df-convert {\n",
              "      background-color: #E8F0FE;\n",
              "      border: none;\n",
              "      border-radius: 50%;\n",
              "      cursor: pointer;\n",
              "      display: none;\n",
              "      fill: #1967D2;\n",
              "      height: 32px;\n",
              "      padding: 0 0 0 0;\n",
              "      width: 32px;\n",
              "    }\n",
              "\n",
              "    .colab-df-convert:hover {\n",
              "      background-color: #E2EBFA;\n",
              "      box-shadow: 0px 1px 2px rgba(60, 64, 67, 0.3), 0px 1px 3px 1px rgba(60, 64, 67, 0.15);\n",
              "      fill: #174EA6;\n",
              "    }\n",
              "\n",
              "    [theme=dark] .colab-df-convert {\n",
              "      background-color: #3B4455;\n",
              "      fill: #D2E3FC;\n",
              "    }\n",
              "\n",
              "    [theme=dark] .colab-df-convert:hover {\n",
              "      background-color: #434B5C;\n",
              "      box-shadow: 0px 1px 3px 1px rgba(0, 0, 0, 0.15);\n",
              "      filter: drop-shadow(0px 1px 2px rgba(0, 0, 0, 0.3));\n",
              "      fill: #FFFFFF;\n",
              "    }\n",
              "  </style>\n",
              "\n",
              "      <script>\n",
              "        const buttonEl =\n",
              "          document.querySelector('#df-60c1a407-9670-4951-b9c0-ea4786b3b721 button.colab-df-convert');\n",
              "        buttonEl.style.display =\n",
              "          google.colab.kernel.accessAllowed ? 'block' : 'none';\n",
              "\n",
              "        async function convertToInteractive(key) {\n",
              "          const element = document.querySelector('#df-60c1a407-9670-4951-b9c0-ea4786b3b721');\n",
              "          const dataTable =\n",
              "            await google.colab.kernel.invokeFunction('convertToInteractive',\n",
              "                                                     [key], {});\n",
              "          if (!dataTable) return;\n",
              "\n",
              "          const docLinkHtml = 'Like what you see? Visit the ' +\n",
              "            '<a target=\"_blank\" href=https://colab.research.google.com/notebooks/data_table.ipynb>data table notebook</a>'\n",
              "            + ' to learn more about interactive tables.';\n",
              "          element.innerHTML = '';\n",
              "          dataTable['output_type'] = 'display_data';\n",
              "          await google.colab.output.renderOutput(dataTable, element);\n",
              "          const docLink = document.createElement('div');\n",
              "          docLink.innerHTML = docLinkHtml;\n",
              "          element.appendChild(docLink);\n",
              "        }\n",
              "      </script>\n",
              "    </div>\n",
              "  </div>\n",
              "  "
            ]
          },
          "metadata": {},
          "execution_count": 67
        }
      ]
    },
    {
      "cell_type": "code",
      "source": [
        "models_comparison = [                        \n",
        "                        ('Naive Bayes Multinomial', accuracy_nb_test, recall_nb_test, precision_nb_test, f1_nb_test)                      \n",
        "                    ]"
      ],
      "metadata": {
        "id": "wAWYM-eYODs9"
      },
      "execution_count": 68,
      "outputs": []
    },
    {
      "cell_type": "code",
      "source": [
        "comparison = pd.DataFrame(data = models_comparison, columns=['Model', 'Accuracy', 'Recall', 'Precision', 'F1 Weighted'])\n",
        "comparison"
      ],
      "metadata": {
        "colab": {
          "base_uri": "https://localhost:8080/",
          "height": 81
        },
        "id": "VAewwrsiOILS",
        "outputId": "8fdfcce9-7459-4c6f-9899-9c89e824996e"
      },
      "execution_count": 69,
      "outputs": [
        {
          "output_type": "execute_result",
          "data": {
            "text/plain": [
              "                     Model  Accuracy  Recall  Precision  F1 Weighted\n",
              "0  Naive Bayes Multinomial       0.7     0.7   0.722727     0.682937"
            ],
            "text/html": [
              "\n",
              "  <div id=\"df-9c29a088-bad6-4a32-be94-d1c021b56ef8\">\n",
              "    <div class=\"colab-df-container\">\n",
              "      <div>\n",
              "<style scoped>\n",
              "    .dataframe tbody tr th:only-of-type {\n",
              "        vertical-align: middle;\n",
              "    }\n",
              "\n",
              "    .dataframe tbody tr th {\n",
              "        vertical-align: top;\n",
              "    }\n",
              "\n",
              "    .dataframe thead th {\n",
              "        text-align: right;\n",
              "    }\n",
              "</style>\n",
              "<table border=\"1\" class=\"dataframe\">\n",
              "  <thead>\n",
              "    <tr style=\"text-align: right;\">\n",
              "      <th></th>\n",
              "      <th>Model</th>\n",
              "      <th>Accuracy</th>\n",
              "      <th>Recall</th>\n",
              "      <th>Precision</th>\n",
              "      <th>F1 Weighted</th>\n",
              "    </tr>\n",
              "  </thead>\n",
              "  <tbody>\n",
              "    <tr>\n",
              "      <th>0</th>\n",
              "      <td>Naive Bayes Multinomial</td>\n",
              "      <td>0.7</td>\n",
              "      <td>0.7</td>\n",
              "      <td>0.722727</td>\n",
              "      <td>0.682937</td>\n",
              "    </tr>\n",
              "  </tbody>\n",
              "</table>\n",
              "</div>\n",
              "      <button class=\"colab-df-convert\" onclick=\"convertToInteractive('df-9c29a088-bad6-4a32-be94-d1c021b56ef8')\"\n",
              "              title=\"Convert this dataframe to an interactive table.\"\n",
              "              style=\"display:none;\">\n",
              "        \n",
              "  <svg xmlns=\"http://www.w3.org/2000/svg\" height=\"24px\"viewBox=\"0 0 24 24\"\n",
              "       width=\"24px\">\n",
              "    <path d=\"M0 0h24v24H0V0z\" fill=\"none\"/>\n",
              "    <path d=\"M18.56 5.44l.94 2.06.94-2.06 2.06-.94-2.06-.94-.94-2.06-.94 2.06-2.06.94zm-11 1L8.5 8.5l.94-2.06 2.06-.94-2.06-.94L8.5 2.5l-.94 2.06-2.06.94zm10 10l.94 2.06.94-2.06 2.06-.94-2.06-.94-.94-2.06-.94 2.06-2.06.94z\"/><path d=\"M17.41 7.96l-1.37-1.37c-.4-.4-.92-.59-1.43-.59-.52 0-1.04.2-1.43.59L10.3 9.45l-7.72 7.72c-.78.78-.78 2.05 0 2.83L4 21.41c.39.39.9.59 1.41.59.51 0 1.02-.2 1.41-.59l7.78-7.78 2.81-2.81c.8-.78.8-2.07 0-2.86zM5.41 20L4 18.59l7.72-7.72 1.47 1.35L5.41 20z\"/>\n",
              "  </svg>\n",
              "      </button>\n",
              "      \n",
              "  <style>\n",
              "    .colab-df-container {\n",
              "      display:flex;\n",
              "      flex-wrap:wrap;\n",
              "      gap: 12px;\n",
              "    }\n",
              "\n",
              "    .colab-df-convert {\n",
              "      background-color: #E8F0FE;\n",
              "      border: none;\n",
              "      border-radius: 50%;\n",
              "      cursor: pointer;\n",
              "      display: none;\n",
              "      fill: #1967D2;\n",
              "      height: 32px;\n",
              "      padding: 0 0 0 0;\n",
              "      width: 32px;\n",
              "    }\n",
              "\n",
              "    .colab-df-convert:hover {\n",
              "      background-color: #E2EBFA;\n",
              "      box-shadow: 0px 1px 2px rgba(60, 64, 67, 0.3), 0px 1px 3px 1px rgba(60, 64, 67, 0.15);\n",
              "      fill: #174EA6;\n",
              "    }\n",
              "\n",
              "    [theme=dark] .colab-df-convert {\n",
              "      background-color: #3B4455;\n",
              "      fill: #D2E3FC;\n",
              "    }\n",
              "\n",
              "    [theme=dark] .colab-df-convert:hover {\n",
              "      background-color: #434B5C;\n",
              "      box-shadow: 0px 1px 3px 1px rgba(0, 0, 0, 0.15);\n",
              "      filter: drop-shadow(0px 1px 2px rgba(0, 0, 0, 0.3));\n",
              "      fill: #FFFFFF;\n",
              "    }\n",
              "  </style>\n",
              "\n",
              "      <script>\n",
              "        const buttonEl =\n",
              "          document.querySelector('#df-9c29a088-bad6-4a32-be94-d1c021b56ef8 button.colab-df-convert');\n",
              "        buttonEl.style.display =\n",
              "          google.colab.kernel.accessAllowed ? 'block' : 'none';\n",
              "\n",
              "        async function convertToInteractive(key) {\n",
              "          const element = document.querySelector('#df-9c29a088-bad6-4a32-be94-d1c021b56ef8');\n",
              "          const dataTable =\n",
              "            await google.colab.kernel.invokeFunction('convertToInteractive',\n",
              "                                                     [key], {});\n",
              "          if (!dataTable) return;\n",
              "\n",
              "          const docLinkHtml = 'Like what you see? Visit the ' +\n",
              "            '<a target=\"_blank\" href=https://colab.research.google.com/notebooks/data_table.ipynb>data table notebook</a>'\n",
              "            + ' to learn more about interactive tables.';\n",
              "          element.innerHTML = '';\n",
              "          dataTable['output_type'] = 'display_data';\n",
              "          await google.colab.output.renderOutput(dataTable, element);\n",
              "          const docLink = document.createElement('div');\n",
              "          docLink.innerHTML = docLinkHtml;\n",
              "          element.appendChild(docLink);\n",
              "        }\n",
              "      </script>\n",
              "    </div>\n",
              "  </div>\n",
              "  "
            ]
          },
          "metadata": {},
          "execution_count": 69
        }
      ]
    },
    {
      "cell_type": "code",
      "source": [
        "import numpy as np\n",
        "\n",
        "f, axes = plt.subplots(2,1, figsize=(14,10))\n",
        "\n",
        "predict.sort_values(by=['Training Accuracy'], ascending=False, inplace=True)\n",
        "\n",
        "sns.barplot(x='Training Accuracy', y='Model', data = predict, palette='Blues_d', ax = axes[0])\n",
        "#axes[0].set(xlabel='Region', ylabel='Charges')\n",
        "axes[0].set_xlabel('Training Accuracy', size=16)\n",
        "axes[0].set_ylabel('Model')\n",
        "axes[0].set_xlim(0,1.0)\n",
        "axes[0].set_xticks(np.arange(0, 1.1, 0.1))\n",
        "\n",
        "predict.sort_values(by=['Test Accuracy'], ascending=False, inplace=True)\n",
        "\n",
        "sns.barplot(x='Test Accuracy', y='Model', data = predict, palette='Greens_d', ax = axes[1])\n",
        "#axes[0].set(xlabel='Region', ylabel='Charges')\n",
        "axes[1].set_xlabel('Test Accuracy', size=16)\n",
        "axes[1].set_ylabel('Model')\n",
        "axes[1].set_xlim(0,1.0)\n",
        "axes[1].set_xticks(np.arange(0, 1.1, 0.1))\n",
        "\n",
        "plt.show()"
      ],
      "metadata": {
        "colab": {
          "base_uri": "https://localhost:8080/",
          "height": 611
        },
        "id": "8YewnsVVPC_J",
        "outputId": "aee45f4c-3942-4b24-f43a-dd8662ce9eb9"
      },
      "execution_count": 70,
      "outputs": [
        {
          "output_type": "display_data",
          "data": {
            "text/plain": [
              "<Figure size 1008x720 with 2 Axes>"
            ],
            "image/png": "[encoded data removed]"
          },
          "metadata": {
            "needs_background": "light"
          }
        }
      ]
    },
    {
      "cell_type": "code",
      "source": [
        "import joblib"
      ],
      "metadata": {
        "id": "DFqzdQP4PIvu"
      },
      "execution_count": 71,
      "outputs": []
    },
    {
      "cell_type": "code",
      "source": [
        "# save the model to disk\n",
        "filename = '/content/drive/My Drive/Colab Notebooks/AMS2022/classifier_nb.best_estimator_.sav'\n",
        "joblib.dump(classifier_nb.best_estimator_, filename)"
      ],
      "metadata": {
        "id": "9eAztlRmIfLi",
        "colab": {
          "base_uri": "https://localhost:8080/"
        },
        "outputId": "87bed0e6-7d74-46c8-949d-895fd07cdd5b"
      },
      "execution_count": 72,
      "outputs": [
        {
          "output_type": "execute_result",
          "data": {
            "text/plain": [
              "['/content/drive/My Drive/Colab Notebooks/AMS2022/classifier_nb.best_estimator_.sav']"
            ]
          },
          "metadata": {},
          "execution_count": 72
        }
      ]
    },
    {
      "cell_type": "code",
      "source": [],
      "metadata": {
        "id": "XHxFNpWhIfIi"
      },
      "execution_count": null,
      "outputs": []
    },
    {
      "cell_type": "code",
      "source": [],
      "metadata": {
        "id": "_WuJny7uIfF6"
      },
      "execution_count": null,
      "outputs": []
    },
    {
      "cell_type": "code",
      "source": [],
      "metadata": {
        "id": "2bHbL317IfDM"
      },
      "execution_count": null,
      "outputs": []
    },
    {
      "cell_type": "code",
      "source": [],
      "metadata": {
        "id": "ltEp3tEUIfAT"
      },
      "execution_count": null,
      "outputs": []
    },
    {
      "cell_type": "code",
      "source": [],
      "metadata": {
        "id": "eVy-Rf7dIe9-"
      },
      "execution_count": null,
      "outputs": []
    },
    {
      "cell_type": "code",
      "source": [],
      "metadata": {
        "id": "6IiKGyNUIe6e"
      },
      "execution_count": null,
      "outputs": []
    },
    {
      "cell_type": "code",
      "source": [],
      "metadata": {
        "id": "WtZMdLQ7Ie3y"
      },
      "execution_count": null,
      "outputs": []
    },
    {
      "cell_type": "code",
      "source": [],
      "metadata": {
        "id": "855r5-JNIeV6"
      },
      "execution_count": null,
      "outputs": []
    }
  ],
  "metadata": {
    "colab": {
      "provenance": [],
      "collapsed_sections": []
    },
    "kernelspec": {
      "display_name": "Python 3",
      "name": "python3"
    },
    "language_info": {
      "name": "python"
    }
  },
  "nbformat": 4,
  "nbformat_minor": 0
}